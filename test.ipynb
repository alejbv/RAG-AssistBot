{
 "cells": [
  {
   "cell_type": "code",
   "execution_count": 1,
   "metadata": {},
   "outputs": [],
   "source": [
    "#Cargar la extensión autoreload\n",
    "%load_ext autoreload\n",
    "%autoreload 2\n",
    "# Retriever tools\n",
    "from libs.chatbot import Chatbot\n",
    "from libs.vector_retriever import VectorRetriever\n",
    "from libs.lexical_retriever import LexicalRetriever\n",
    "from libs.basic_document_storage import BasicStorage\n",
    "from libs.hybrid_retriever import HybridRetriever\n",
    "from libs.pdf_loader import PDFLoader\n",
    "from libs.basic_text_splitter import BasicTextSplitter\n",
    "\n",
    "# Prompt Tools\n",
    "from prompts.academic_assistant_prompt import system_prompt as academic_system_prompt\n",
    "from prompts.academic_assistant_prompt import user_prompt as academic_user_prompt"
   ]
  },
  {
   "cell_type": "code",
   "execution_count": 2,
   "metadata": {},
   "outputs": [],
   "source": [
    "# 1. Load, chunk and index the contents of the blog to create a retriever.\n",
    "# Load the documents\n",
    "pdf_loader = PDFLoader(file_filter={\".pdf\"})\n",
    "documents = pdf_loader.load_data()\n",
    "# Split the documents in chunks\n",
    "splitter = BasicTextSplitter()\n",
    "chunked_documents = splitter.split_documents(documents)\n",
    "# Store the documents\n",
    "basic_storage = BasicStorage()\n",
    "basic_storage.add_documents(chunked_documents)\n"
   ]
  },
  {
   "cell_type": "code",
   "execution_count": 4,
   "metadata": {},
   "outputs": [
    {
     "name": "stdout",
     "output_type": "stream",
     "text": [
      "Adding documents to the retriever\n"
     ]
    },
    {
     "name": "stderr",
     "output_type": "stream",
     "text": [
      "WARNING clustering 659 points to 25 centroids: please provide at least 975 training points\n"
     ]
    },
    {
     "data": {
      "application/vnd.jupyter.widget-view+json": {
       "model_id": "b22bdb69ab2f47ccbd1547cf73357d75",
       "version_major": 2,
       "version_minor": 0
      },
      "text/plain": [
       "BM25S Create Vocab:   0%|          | 0/659 [00:00<?, ?it/s]"
      ]
     },
     "metadata": {},
     "output_type": "display_data"
    },
    {
     "data": {
      "application/vnd.jupyter.widget-view+json": {
       "model_id": "7da94f670d5a412b9a6a8c702787b31c",
       "version_major": 2,
       "version_minor": 0
      },
      "text/plain": [
       "BM25S Convert tokens to indices:   0%|          | 0/659 [00:00<?, ?it/s]"
      ]
     },
     "metadata": {},
     "output_type": "display_data"
    },
    {
     "data": {
      "application/vnd.jupyter.widget-view+json": {
       "model_id": "9c692f0b3efe41c3865c6f6e25f1ffe6",
       "version_major": 2,
       "version_minor": 0
      },
      "text/plain": [
       "BM25S Count Tokens:   0%|          | 0/659 [00:00<?, ?it/s]"
      ]
     },
     "metadata": {},
     "output_type": "display_data"
    },
    {
     "data": {
      "application/vnd.jupyter.widget-view+json": {
       "model_id": "040a668720284f18bb57247877c20560",
       "version_major": 2,
       "version_minor": 0
      },
      "text/plain": [
       "BM25S Compute Scores:   0%|          | 0/659 [00:00<?, ?it/s]"
      ]
     },
     "metadata": {},
     "output_type": "display_data"
    }
   ],
   "source": [
    "# 2. Create a retriever to handle the retrieval process.\n",
    "# For handling the storage and retrieval of data chunks with semantic search\n",
    "semantic_retriever = VectorRetriever()\n",
    "# For handling the storage and retrieval of data chunks with lexical search\n",
    "lexical_retriever = LexicalRetriever()\n",
    "# A retriever for handling all the retrieval process\n",
    "hybrid_retriever = HybridRetriever(storage_= basic_storage, retrievers=[semantic_retriever,lexical_retriever])\n",
    "# Add the documents to the retriever\n",
    "print(\"Adding documents to the retriever\")\n",
    "hybrid_retriever.add(chunked_documents)\n"
   ]
  },
  {
   "cell_type": "code",
   "execution_count": 5,
   "metadata": {},
   "outputs": [],
   "source": [
    "bot = Chatbot(hybrid_retriever,\n",
    "              system_prompt=academic_system_prompt,\n",
    "              user_prompt=academic_user_prompt)"
   ]
  },
  {
   "cell_type": "code",
   "execution_count": 6,
   "metadata": {},
   "outputs": [],
   "source": [
    "query1 = \"Cuales son las distintas formas de turismo\"\n",
    "query2= \"Hablame de los pasos principales de la organización y el desarrollo de un viaje y los tipos de entidades participantes en ello\""
   ]
  },
  {
   "cell_type": "code",
   "execution_count": 7,
   "metadata": {},
   "outputs": [
    {
     "data": {
      "application/vnd.jupyter.widget-view+json": {
       "model_id": "2686146b26bb43b58903089c69c4d3cc",
       "version_major": 2,
       "version_minor": 0
      },
      "text/plain": [
       "BM25S Retrieve:   0%|          | 0/1 [00:00<?, ?it/s]"
      ]
     },
     "metadata": {},
     "output_type": "display_data"
    },
    {
     "data": {
      "text/plain": [
       "'Hola! En turismo, se pueden diferenciar varias formas o modalidades, las cuales son:\\n\\n1. Turismo de playa: Se refiere a viajes al mar o al litoral, con el objetivo de disfrutar de la playa y el clima cálido.\\n\\n2. Turismo de cultura: Se centra en conocer y apreciar la historia, la arquitectura, el arte y la cultura de un lugar.\\n\\n3. Turismo de naturaleza: Se enfoca en la exploración y apreciación de los ecosistemas y paisajes naturales, como parques nacionales, reservas naturales o zonas silvestres.\\n\\n4. Turismo de aventura: Se caracteriza por la participación en actividades de riesgo y desafío, como escalada, rafting, esquí, bungee jumping, etc.\\n\\n5. Turismo de negocios: Se refiere a viajes realizados para fines de negocio, como conferencias, reuniones, visitas a clientes o proveedores.\\n\\n6. Turismo de salud: Se enfoca en la recuperación y relajación, con el objetivo de mejorar la salud física y mental, como viajes a spas, centros de yoga, etc.\\n\\n7. Turismo de eco-turismo: Se centra en el turismo sostenible y responsable, con el objetivo de minimizar el impacto ambiental y cultural, y apoyar a las comunidades locales.\\n\\n8. Turismo de voluntariado: Se refiere a viajes en los que se participa en proyectos de ayuda a comunidades en necesidad, como construcción de escuelas, hospitales, etc.\\n\\n9. Turismo de crucero: Se caracteriza por viajar en barcos por diferentes destinos, como por el Caribe, el Mediterráneo, el Pacífico, etc.\\n\\n10. Turismo de espacio: Se refiere a viajes espaciales comerciales, como viajes a la Luna o a Marte.\\n\\nEsper'"
      ]
     },
     "execution_count": 7,
     "metadata": {},
     "output_type": "execute_result"
    }
   ],
   "source": [
    "bot.reply(query1)\n"
   ]
  },
  {
   "cell_type": "code",
   "execution_count": 8,
   "metadata": {},
   "outputs": [
    {
     "data": {
      "application/vnd.jupyter.widget-view+json": {
       "model_id": "5e300fe5b6e54eaea114cf673aa599c3",
       "version_major": 2,
       "version_minor": 0
      },
      "text/plain": [
       "BM25S Retrieve:   0%|          | 0/1 [00:00<?, ?it/s]"
      ]
     },
     "metadata": {},
     "output_type": "display_data"
    },
    {
     "data": {
      "text/plain": [
       "'Hola! La organización y desarrollo de un viaje implica varios pasos principales y la participación de diferentes entidades. Los pasos principales son:\\n\\n1. Planificación: Se incluye la selección de destino, fecha, duración y actividades a realizar.\\n\\n2. Investigación: Se busca información sobre el destino, como hoteles, restaurantes, lugares de interés, etc.\\n\\n3. Reservación: Se reservan vuelos, hoteles, alquiler de vehículos, etc.\\n\\n4. Documentación: Se obtienen pasaportes, visados, seguros de viaje, etc.\\n\\n5. Viaje: Se realiza el viaje y se disfruta de las actividades programadas.\\n\\n6. Retorno: Se regresa al lugar de origen y se realiza la evaluación del viaje.\\n\\nLas entidades participantes en el desarrollo de un viaje son:\\n\\n1. Agencias de viajes: Se encargan de la organización y reservación de los servicios necesarios para el viaje.\\n\\n2. Transporte aéreo: Se refiere a las aerolíneas que ofrecen vuelos para el viaje.\\n\\n3. Hoteles y alojamientos: Se refieren a los lugares donde se alojará el viajero durante su estancia.\\n\\n4. Servicios de alquiler de vehículos: Se refieren a las empresas que ofrecen alquiler de coches, motores, bicicletas, etc.\\n\\n5. Servicios de turismo: Se refieren a las empresas que ofrecen actividades turísticas, como excursiones, tours, etc.\\n\\n6. Servicios de seguros de viaje: Se refieren a las empresas que ofrecen seguros de viaje para proteger a los viajeros en caso de incidentes.\\n\\n7. Servicios de documentación: Se refieren a las empresas que ofrecen servicios de pasaportes, visados, etc.'"
      ]
     },
     "execution_count": 8,
     "metadata": {},
     "output_type": "execute_result"
    }
   ],
   "source": [
    "bot.reply(query2)"
   ]
  },
  {
   "cell_type": "code",
   "execution_count": 9,
   "metadata": {},
   "outputs": [
    {
     "data": {
      "text/plain": [
       "[{'role': 'system',\n",
       "  'content': '\\nEres un asistente académico experto. \\nTu tarea es responder preguntas a los estudiantes sobre distintos aspectos académicos de manera precisa y clara usando el contexto proporcionado. \\nSi el contexto es insuficiente, informa al usuario de que no puedes responder su pregunta con la información que posees. Responde en Español.\\n--- Contexto ---\\n{context}\\n'},\n",
       " {'role': 'user',\n",
       "  'content': '\\nHola, tengo una pregunta sobre Cuales son las distintas formas de turismo.\\n'},\n",
       " {'role': 'assistant',\n",
       "  'content': 'Hola! En turismo, se pueden diferenciar varias formas o modalidades, las cuales son:\\n\\n1. Turismo de playa: Se refiere a viajes al mar o al litoral, con el objetivo de disfrutar de la playa y el clima cálido.\\n\\n2. Turismo de cultura: Se centra en conocer y apreciar la historia, la arquitectura, el arte y la cultura de un lugar.\\n\\n3. Turismo de naturaleza: Se enfoca en la exploración y apreciación de los ecosistemas y paisajes naturales, como parques nacionales, reservas naturales o zonas silvestres.\\n\\n4. Turismo de aventura: Se caracteriza por la participación en actividades de riesgo y desafío, como escalada, rafting, esquí, bungee jumping, etc.\\n\\n5. Turismo de negocios: Se refiere a viajes realizados para fines de negocio, como conferencias, reuniones, visitas a clientes o proveedores.\\n\\n6. Turismo de salud: Se enfoca en la recuperación y relajación, con el objetivo de mejorar la salud física y mental, como viajes a spas, centros de yoga, etc.\\n\\n7. Turismo de eco-turismo: Se centra en el turismo sostenible y responsable, con el objetivo de minimizar el impacto ambiental y cultural, y apoyar a las comunidades locales.\\n\\n8. Turismo de voluntariado: Se refiere a viajes en los que se participa en proyectos de ayuda a comunidades en necesidad, como construcción de escuelas, hospitales, etc.\\n\\n9. Turismo de crucero: Se caracteriza por viajar en barcos por diferentes destinos, como por el Caribe, el Mediterráneo, el Pacífico, etc.\\n\\n10. Turismo de espacio: Se refiere a viajes espaciales comerciales, como viajes a la Luna o a Marte.\\n\\nEsper'},\n",
       " {'role': 'user',\n",
       "  'content': '\\nHola, tengo una pregunta sobre Hablame de los pasos principales de la organización y el desarrollo de un viaje y los tipos de entidades participantes en ello.\\n'},\n",
       " {'role': 'assistant',\n",
       "  'content': 'Hola! La organización y desarrollo de un viaje implica varios pasos principales y la participación de diferentes entidades. Los pasos principales son:\\n\\n1. Planificación: Se incluye la selección de destino, fecha, duración y actividades a realizar.\\n\\n2. Investigación: Se busca información sobre el destino, como hoteles, restaurantes, lugares de interés, etc.\\n\\n3. Reservación: Se reservan vuelos, hoteles, alquiler de vehículos, etc.\\n\\n4. Documentación: Se obtienen pasaportes, visados, seguros de viaje, etc.\\n\\n5. Viaje: Se realiza el viaje y se disfruta de las actividades programadas.\\n\\n6. Retorno: Se regresa al lugar de origen y se realiza la evaluación del viaje.\\n\\nLas entidades participantes en el desarrollo de un viaje son:\\n\\n1. Agencias de viajes: Se encargan de la organización y reservación de los servicios necesarios para el viaje.\\n\\n2. Transporte aéreo: Se refiere a las aerolíneas que ofrecen vuelos para el viaje.\\n\\n3. Hoteles y alojamientos: Se refieren a los lugares donde se alojará el viajero durante su estancia.\\n\\n4. Servicios de alquiler de vehículos: Se refieren a las empresas que ofrecen alquiler de coches, motores, bicicletas, etc.\\n\\n5. Servicios de turismo: Se refieren a las empresas que ofrecen actividades turísticas, como excursiones, tours, etc.\\n\\n6. Servicios de seguros de viaje: Se refieren a las empresas que ofrecen seguros de viaje para proteger a los viajeros en caso de incidentes.\\n\\n7. Servicios de documentación: Se refieren a las empresas que ofrecen servicios de pasaportes, visados, etc.'}]"
      ]
     },
     "execution_count": 9,
     "metadata": {},
     "output_type": "execute_result"
    }
   ],
   "source": [
    "bot.history('all')"
   ]
  }
 ],
 "metadata": {
  "kernelspec": {
   "display_name": ".env",
   "language": "python",
   "name": "python3"
  },
  "language_info": {
   "codemirror_mode": {
    "name": "ipython",
    "version": 3
   },
   "file_extension": ".py",
   "mimetype": "text/x-python",
   "name": "python",
   "nbconvert_exporter": "python",
   "pygments_lexer": "ipython3",
   "version": "3.10.12"
  }
 },
 "nbformat": 4,
 "nbformat_minor": 2
}
