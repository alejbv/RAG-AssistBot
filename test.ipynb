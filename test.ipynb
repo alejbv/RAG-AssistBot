{
 "cells": [
  {
   "cell_type": "code",
   "execution_count": 39,
   "metadata": {},
   "outputs": [
    {
     "name": "stdout",
     "output_type": "stream",
     "text": [
      "The autoreload extension is already loaded. To reload it, use:\n",
      "  %reload_ext autoreload\n"
     ]
    }
   ],
   "source": [
    "#Cargar la extensión autoreload\n",
    "%load_ext autoreload\n",
    "%autoreload 2\n",
    "# Retriever tools\n",
    "from libs.chatbot import Chatbot\n",
    "from libs.vector_retriever import VectorRetriever\n",
    "from libs.lexical_retriever import LexicalRetriever\n",
    "from libs.basic_document_storage import BasicStorage\n",
    "from libs.hybrid_retriever import HybridRetriever\n",
    "from libs.pdf_loader import PDFLoader\n",
    "from libs.basic_text_splitter import BasicTextSplitter\n",
    "\n",
    "# Prompt Tools\n",
    "from prompts.academic_assistant_prompt import system_prompt as academic_system_prompt\n",
    "from prompts.academic_assistant_prompt import user_prompt as academic_user_prompt"
   ]
  },
  {
   "cell_type": "code",
   "execution_count": 2,
   "metadata": {},
   "outputs": [],
   "source": [
    "# 1. Load, chunk and index the contents of the blog to create a retriever.\n",
    "# Load the documents\n",
    "pdf_loader = PDFLoader(file_filter={\".pdf\"})\n",
    "documents = pdf_loader.load_data()\n",
    "# Split the documents in chunks\n",
    "splitter = BasicTextSplitter()\n",
    "chunked_documents = splitter.split_documents(documents)\n",
    "# Store the documents\n",
    "basic_storage = BasicStorage()\n",
    "basic_storage.add_documents(chunked_documents)\n"
   ]
  },
  {
   "cell_type": "code",
   "execution_count": 3,
   "metadata": {},
   "outputs": [
    {
     "name": "stdout",
     "output_type": "stream",
     "text": [
      "Adding documents to the retriever\n"
     ]
    },
    {
     "name": "stderr",
     "output_type": "stream",
     "text": [
      "WARNING clustering 659 points to 25 centroids: please provide at least 975 training points\n"
     ]
    },
    {
     "data": {
      "application/vnd.jupyter.widget-view+json": {
       "model_id": "e6267ae1f10a4626a73e00d9babda77c",
       "version_major": 2,
       "version_minor": 0
      },
      "text/plain": [
       "BM25S Create Vocab:   0%|          | 0/659 [00:00<?, ?it/s]"
      ]
     },
     "metadata": {},
     "output_type": "display_data"
    },
    {
     "data": {
      "application/vnd.jupyter.widget-view+json": {
       "model_id": "8f47a86d30954e9ca2087f2cc52006cd",
       "version_major": 2,
       "version_minor": 0
      },
      "text/plain": [
       "BM25S Convert tokens to indices:   0%|          | 0/659 [00:00<?, ?it/s]"
      ]
     },
     "metadata": {},
     "output_type": "display_data"
    },
    {
     "data": {
      "application/vnd.jupyter.widget-view+json": {
       "model_id": "176510cd62f345748ac924e2ae66752e",
       "version_major": 2,
       "version_minor": 0
      },
      "text/plain": [
       "BM25S Count Tokens:   0%|          | 0/659 [00:00<?, ?it/s]"
      ]
     },
     "metadata": {},
     "output_type": "display_data"
    },
    {
     "data": {
      "application/vnd.jupyter.widget-view+json": {
       "model_id": "bdfc685a0b3c4126b52d2b7c4c3c814a",
       "version_major": 2,
       "version_minor": 0
      },
      "text/plain": [
       "BM25S Compute Scores:   0%|          | 0/659 [00:00<?, ?it/s]"
      ]
     },
     "metadata": {},
     "output_type": "display_data"
    }
   ],
   "source": [
    "# 2. Create a retriever to handle the retrieval process.\n",
    "# For handling the storage and retrieval of data chunks with semantic search\n",
    "semantic_retriever = VectorRetriever()\n",
    "# For handling the storage and retrieval of data chunks with lexical search\n",
    "lexical_retriever = LexicalRetriever()\n",
    "# A retriever for handling all the retrieval process\n",
    "hybrid_retriever = HybridRetriever(storage_= basic_storage, retrievers=[semantic_retriever,lexical_retriever])\n",
    "# Add the documents to the retriever\n",
    "print(\"Adding documents to the retriever\")\n",
    "hybrid_retriever.add(chunked_documents)\n"
   ]
  },
  {
   "cell_type": "code",
   "execution_count": 49,
   "metadata": {},
   "outputs": [],
   "source": [
    "bot = Chatbot(hybrid_retriever,\n",
    "              system_prompt=academic_system_prompt,\n",
    "              user_prompt=academic_user_prompt\n",
    "              )"
   ]
  },
  {
   "cell_type": "code",
   "execution_count": 54,
   "metadata": {},
   "outputs": [],
   "source": [
    "query1 = \"Cuales son los subsistemas endogenos del modelo pentagonal\""
   ]
  },
  {
   "cell_type": "code",
   "execution_count": 55,
   "metadata": {},
   "outputs": [
    {
     "data": {
      "application/vnd.jupyter.widget-view+json": {
       "model_id": "1b744fe57bf2461c9c3cad748ee3e35c",
       "version_major": 2,
       "version_minor": 0
      },
      "text/plain": [
       "BM25S Retrieve:   0%|          | 0/1 [00:00<?, ?it/s]"
      ]
     },
     "metadata": {},
     "output_type": "display_data"
    },
    {
     "data": {
      "text/plain": [
       "'Los subsistemas endógenos del modelo pentagonal son: recursos turísticos y atractivos, productos turísticos, organización y comercialización de la oferta turística, y flujos turísticos.'"
      ]
     },
     "execution_count": 55,
     "metadata": {},
     "output_type": "execute_result"
    }
   ],
   "source": [
    "bot.reply(query1)"
   ]
  },
  {
   "cell_type": "code",
   "execution_count": 52,
   "metadata": {},
   "outputs": [],
   "source": [
    "query2 = \"Menciona todos los subsistemas que encuentres en el contexto del modelo pentagonal\""
   ]
  },
  {
   "cell_type": "code",
   "execution_count": 53,
   "metadata": {},
   "outputs": [
    {
     "data": {
      "application/vnd.jupyter.widget-view+json": {
       "model_id": "58ce83641f8a444eb81db0ed2a60c78d",
       "version_major": 2,
       "version_minor": 0
      },
      "text/plain": [
       "BM25S Retrieve:   0%|          | 0/1 [00:00<?, ?it/s]"
      ]
     },
     "metadata": {},
     "output_type": "display_data"
    },
    {
     "data": {
      "text/plain": [
       "'Subsistemas exógenos o integrantes del ‘entorno turístico’, Subsistemas endógenos o propiamente turísticos, Subsistema macroentorno o ambiente general'"
      ]
     },
     "execution_count": 53,
     "metadata": {},
     "output_type": "execute_result"
    }
   ],
   "source": [
    "bot.reply(query2)"
   ]
  }
 ],
 "metadata": {
  "kernelspec": {
   "display_name": ".env",
   "language": "python",
   "name": "python3"
  },
  "language_info": {
   "codemirror_mode": {
    "name": "ipython",
    "version": 3
   },
   "file_extension": ".py",
   "mimetype": "text/x-python",
   "name": "python",
   "nbconvert_exporter": "python",
   "pygments_lexer": "ipython3",
   "version": "3.10.12"
  }
 },
 "nbformat": 4,
 "nbformat_minor": 2
}
