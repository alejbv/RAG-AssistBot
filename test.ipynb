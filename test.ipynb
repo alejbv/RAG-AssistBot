{
 "cells": [
  {
   "cell_type": "code",
   "execution_count": 1,
   "metadata": {},
   "outputs": [
    {
     "name": "stderr",
     "output_type": "stream",
     "text": [
      "/media/alejbv/Disco1/HDD Old/Carrerra/Mis Temas/Trabajo/privado/leyes_chatbot/.env/lib/python3.10/site-packages/tqdm/auto.py:21: TqdmWarning: IProgress not found. Please update jupyter and ipywidgets. See https://ipywidgets.readthedocs.io/en/stable/user_install.html\n",
      "  from .autonotebook import tqdm as notebook_tqdm\n"
     ]
    }
   ],
   "source": [
    "# The modules\n",
    "from libs.lexical_store import LexicalStore\n",
    "from libs.vector_store import VectorStore\n",
    "from libs.retriever import RetrieverQA\n",
    "from libs.basic_document_loader import BasicIndexer\n",
    "import ir_datasets"
   ]
  },
  {
   "cell_type": "code",
   "execution_count": 2,
   "metadata": {},
   "outputs": [],
   "source": [
    "# Preparing the dataset\n",
    "# Loading the dataset\n",
    "dataset = ir_datasets.load(\"cranfield\")\n",
    "# Preparing the docs and queries\n",
    "prep_funct = lambda x: dict(doc_id=x[0],title=x[1],text=x[2],author=x[3],bib=x[4])\n",
    "docs = list(map(prep_funct,dataset.docs_iter()))\n",
    "queries = {query[0]:query[1] for query in dataset.queries_iter()}\n"
   ]
  },
  {
   "cell_type": "code",
   "execution_count": 3,
   "metadata": {},
   "outputs": [],
   "source": [
    "# Preparing the stores\n",
    "vector = VectorStore(nlist=25)\n",
    "lexical = LexicalStore()\n",
    "# Preparing the Indexer\n",
    "index = BasicIndexer()"
   ]
  },
  {
   "cell_type": "code",
   "execution_count": 4,
   "metadata": {},
   "outputs": [
    {
     "name": "stderr",
     "output_type": "stream",
     "text": [
      "                                                                            \r"
     ]
    }
   ],
   "source": [
    "# Adding the documents\n",
    "vector.add(docs)\n",
    "lexical.add(docs)\n",
    "index.add_documents(docs)"
   ]
  },
  {
   "cell_type": "code",
   "execution_count": 5,
   "metadata": {},
   "outputs": [],
   "source": [
    "# Preparing the retrieval\n",
    "retriever = RetrieverQA(documents_=index, stores=[vector,lexical])"
   ]
  },
  {
   "cell_type": "code",
   "execution_count": 6,
   "metadata": {},
   "outputs": [],
   "source": [
    "# Iter for al queries\n",
    "queries_info = {}\n",
    "for query in dataset.qrels_iter():\n",
    "    query_id = query[0]\n",
    "    if query[2] >=2:\n",
    "        exist_info = queries_info.get(query_id,set())\n",
    "        exist_info.add(query[1])\n",
    "        queries_info[query_id] = exist_info\n"
   ]
  },
  {
   "cell_type": "code",
   "execution_count": 7,
   "metadata": {},
   "outputs": [
    {
     "name": "stderr",
     "output_type": "stream",
     "text": [
      "                                                     \r"
     ]
    }
   ],
   "source": [
    "precision = []\n",
    "recall = []\n",
    "for query_id, relevants_docs in queries_info.items():\n",
    "    # The text of the query\n",
    "    if query_id not in queries:\n",
    "        continue\n",
    "    \n",
    "    query = queries[query_id]\n",
    "    # Get the documents\n",
    "    retrieved_docs = set([doc['doc_id'] for doc in retriever.search(query)])\n",
    "    # relevant and retrieved\n",
    "    rr = relevants_docs.intersection(retrieved_docs)\n",
    "    # Calculating the precision\n",
    "    current_precision = len(rr)/len(retrieved_docs)\n",
    "    precision.append(current_precision)\n",
    "    # Calculating the recall\n",
    "    current_recall = len(rr)/len(relevants_docs)\n",
    "    recall.append(current_recall)"
   ]
  },
  {
   "cell_type": "code",
   "execution_count": 8,
   "metadata": {},
   "outputs": [],
   "source": [
    "import numpy as np\n",
    "precision = np.array(precision)\n",
    "recall = np.array(recall)"
   ]
  },
  {
   "cell_type": "code",
   "execution_count": 9,
   "metadata": {},
   "outputs": [
    {
     "name": "stdout",
     "output_type": "stream",
     "text": [
      "0.0 0.0 0.009650349650349652 0.28\n",
      "0.0 0.0 0.045072248013424486 1.0\n"
     ]
    }
   ],
   "source": [
    "print(precision.min(),np.median(precision),precision.mean(),precision.max())\n",
    "print(recall.min(),np.median(recall),recall.mean(),recall.max())"
   ]
  },
  {
   "cell_type": "code",
   "execution_count": 12,
   "metadata": {},
   "outputs": [
    {
     "name": "stderr",
     "output_type": "stream",
     "text": [
      "                                                     "
     ]
    },
    {
     "name": "stdout",
     "output_type": "stream",
     "text": [
      "Query: what similarity laws must be obeyed when constructing aeroelastic models\n",
      "of heated high speed aircraft .\n",
      "Doc: 486\n",
      "Doc: 184\n",
      "Doc: 13\n",
      "Doc: 51\n",
      "Doc: 12\n",
      "Doc: 746\n",
      "Doc: 875\n",
      "Doc: 1268\n",
      "Doc: 1361\n",
      "Doc: 606\n",
      "Doc: 878\n",
      "Doc: 860\n",
      "Doc: 792\n",
      "Doc: 332\n",
      "Doc: 14\n",
      "Doc: 102\n",
      "Doc: 1144\n",
      "Doc: 172\n",
      "Doc: 1362\n",
      "Doc: 497\n",
      "Doc: 36\n",
      "Doc: 395\n",
      "Doc: 747\n",
      "Doc: 141\n",
      "Doc: 29\n",
      "Doc: 378\n",
      "Doc: 195\n",
      "Doc: 573\n",
      "Doc: 435\n",
      "Doc: 686\n",
      "Doc: 1305\n",
      "Doc: 1104\n",
      "Doc: 374\n",
      "Doc: 577\n",
      "Doc: 880\n",
      "Doc: 283\n",
      "Doc: 695\n",
      "Doc: 236\n",
      "Doc: 665\n",
      "Doc: 635\n",
      "Doc: 914\n",
      "Doc: 876\n",
      "Doc: 252\n",
      "Doc: 1328\n",
      "Doc: 552\n",
      "Doc: 142\n",
      "Doc: 540\n",
      "Doc: 1207\n",
      "Doc: 251\n",
      "Doc: 25\n"
     ]
    },
    {
     "name": "stderr",
     "output_type": "stream",
     "text": [
      "\r"
     ]
    }
   ],
   "source": [
    "# Getting  the result\n",
    "result = retriever.search(queries['1'])\n",
    "print(f\"Query: {queries['1']}\")\n",
    "for doc in result:\n",
    "    print(f\"Doc: {doc['doc_id']}\")"
   ]
  }
 ],
 "metadata": {
  "kernelspec": {
   "display_name": ".env",
   "language": "python",
   "name": "python3"
  },
  "language_info": {
   "codemirror_mode": {
    "name": "ipython",
    "version": 3
   },
   "file_extension": ".py",
   "mimetype": "text/x-python",
   "name": "python",
   "nbconvert_exporter": "python",
   "pygments_lexer": "ipython3",
   "version": "3.10.12"
  }
 },
 "nbformat": 4,
 "nbformat_minor": 2
}
