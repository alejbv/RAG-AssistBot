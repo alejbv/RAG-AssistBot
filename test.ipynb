{
 "cells": [
  {
   "cell_type": "code",
   "execution_count": 1,
   "metadata": {},
   "outputs": [],
   "source": [
    "#Cargar la extensión autoreload\n",
    "%load_ext autoreload\n",
    "%autoreload 2\n",
    "\n",
    "# Document Processing tools\n",
    "#from libs.loaders.postgres_loader import PostgresLoader\n",
    "import re\n",
    "from libs.loaders.postgres_loader import PostgresLoader\n",
    "#from libs.splitters.basic_text_splitter import BasicTextSplitter\n",
    "from libs.storage.basic_document_storage import BasicStorage\n",
    "# Retriever tools\n",
    "from libs.retrieval.vector_retriever import VectorRetriever\n",
    "from libs.retrieval.lexical_retriever import LexicalRetriever\n",
    "from libs.retrieval.hybrid_retriever import HybridRetriever\n",
    "# The Agent\n",
    "#from libs.agent.chatbot import Chatbot\n",
    "\n",
    "# Prompt Tools\n",
    "#from libs.prompts.academic_assistant_prompt import system_prompt as academic_system_prompt\n",
    "#from libs.prompts.academic_assistant_prompt import user_prompt as academic_user_prompt"
   ]
  },
  {
   "cell_type": "code",
   "execution_count": 3,
   "metadata": {},
   "outputs": [],
   "source": [
    "# 1. Load the documents and chunk them\n",
    "# Load the documents\n",
    "#loader = PDFLoader(file_filter={\".pdf\"})\n",
    "loader = PostgresLoader()\n",
    "documents = loader.load_data()\n",
    "# Split the documents in chunks\n",
    "#splitter = BasicTextSplitter()\n",
    "#chunked_documents = splitter.split_documents(documents)"
   ]
  },
  {
   "cell_type": "code",
   "execution_count": 9,
   "metadata": {},
   "outputs": [],
   "source": [
    "def filter_documents(data_filter,data):\n",
    "    results=[]\n",
    "    #filter_keys=[\"name\",\"organism\",\"state\",\"year\",\"normtype\",\"number\",\"gazette\",\"slug\"]\n",
    "    for doc in data:\n",
    "        match = True\n",
    "        for key,value in data_filter.items():\n",
    "            if doc[key]!=value:\n",
    "                match = False\n",
    "                break\n",
    "            \n",
    "        if match:\n",
    "            results.append(doc)\n",
    "    \n",
    "    return results\n",
    "        "
   ]
  },
  {
   "cell_type": "code",
   "execution_count": 25,
   "metadata": {},
   "outputs": [],
   "source": [
    "def find_matches_with_positions(text):\n",
    "    # Use re.finditer to get all matches\n",
    "    pattern = r\"_+\"\n",
    "    matches = re.finditer(pattern, text)\n",
    "    \n",
    "    # Iterate through the matches and extract the information\n",
    "    positions = []\n",
    "    for match in matches:\n",
    "        start = match.start()  # Start index of the match\n",
    "        end = match.end()      # End index of the match\n",
    "        substring = match.group()  # Substring that matches the pattern\n",
    "        positions.append((substring, start, end))\n",
    "    \n",
    "     # Print the results\n",
    "    #for substring, start, end in positions:\n",
    "    #    print(f\"Substring: '{substring}', Start: {start}, End: {end}\")\n",
    "    \n",
    "    if len(positions)>= 2:\n",
    "        return text[positions[0][2]:positions[1][1]]\n",
    "    \n",
    "    elif len(positions)==1:\n",
    "        return text[:positions[0][1]]\n",
    "    \n",
    "    else:\n",
    "        return text\n",
    "    \n",
    "    \n",
    "    # return positions"
   ]
  },
  {
   "cell_type": "code",
   "execution_count": 26,
   "metadata": {},
   "outputs": [],
   "source": [
    "new_docs = []\n",
    "for doc in documents:\n",
    "    new_doc = doc.copy()\n",
    "    new_doc['text']= find_matches_with_positions(doc['text'])\n",
    "    new_docs.append(new_doc)"
   ]
  },
  {
   "cell_type": "code",
   "execution_count": 56,
   "metadata": {},
   "outputs": [],
   "source": [
    "fail = []\n",
    "for doc in new_docs:\n",
    "    if doc['text']=='':\n",
    "        fail.append(doc)\n",
    "    "
   ]
  },
  {
   "cell_type": "code",
   "execution_count": 58,
   "metadata": {},
   "outputs": [],
   "source": [
    "filterded_docs = []\n",
    "for doc in fail:\n",
    "    filterded_docs.append(filter_documents({\"id\":doc['id']},documents)[0])"
   ]
  },
  {
   "cell_type": "code",
   "execution_count": 59,
   "metadata": {},
   "outputs": [],
   "source": [
    "docs_with_text = []\n",
    "for doc in filterded_docs:\n",
    "    if doc['text']!='':\n",
    "        docs_with_text.append(doc)"
   ]
  },
  {
   "cell_type": "code",
   "execution_count": 70,
   "metadata": {},
   "outputs": [
    {
     "data": {
      "text/plain": [
       "{'id': '960d07028b2006938941db24781d3cf65e1d9347',\n",
       " 'name': 'Resolución 127 de 2024 de Ministerio de Energía y Minas',\n",
       " 'text': '1795\\nGaceta Oficial de la República\\n20/11/2024\\nGOC-2024-O111\\nPOR CUANTO: La Empresa de la Sal, en forma abreviada ENSAL, ha solicitado el \\ntraspaso de la concesión de explotación y procesamiento que señalada en el Por Cuanto \\nanterior, a favor de la Empresa Filial Salinera de Guantánamo.\\nPOR TANTO: En el ejercicio de las atribuciones que me han sido conferidas en el \\nArtículo 145, inciso e), de la Constitución de la República de Cuba, \\nRESUELVO\\nPRIMERO: Traspasar la concesión de explotación y procesamiento en el área denominada \\nSalinas Cerro Guayabo-Caimanera, ubicada en el municipio de Caimanera de la \\nprovincia de Guantánamo, a favor de la Empresa Filial Salinera de Guantánamo.\\nSEGUNDO: El traspaso que se autoriza está vigente hasta el 26 de octubre de 2049.\\nTERCERO: Los términos, condiciones y obligaciones dispuestos en  las resoluciones 91, \\nde 7 de mayo de 2012, del ministro de la Industria Básica, la 42, de 13 de mayo de 2020, del \\nministro de Energía y Minas y la 68, de 11 de junio de 2024, del que resuelve, son de \\nobligatorio cumplimiento para la Empresa Filial Salinera de Guantánamo.\\nNOTIFÍQUESE al director general de la Oficina Nacional de Recursos Minerales, al \\ndirector general de la Empresa de la Sal, en forma abreviada ENSAL y, al director general \\nde la Empresa Filial Salinera de Guantánamo.\\nPUBLÍQUESE en la Gaceta Oficial de la República de Cuba.\\nARCHÍVESE el original en la Dirección Jurídica del Ministerio de Energía y Minas.\\nDADA en La Habana, a los 14 días del mes de noviembre de 2024, “Año 66 de la \\nRevolución”.\\nVicente de la O Levy\\nMinistro\\nGOC-2024-642-O111\\nRESOLUCIÓN 127/2024\\nPOR CUANTO: De conformidad con la Disposición Final Segunda de la Ley 76, “Ley \\nde Minas”, de 21 de diciembre de 1994, se faculta al extinto Ministerio de la Industria \\nBásica, hoy de Energía y Minas, para dictar cuantas disposiciones se requieran para la \\nmejor ejecución de esta Ley.\\nPOR CUANTO: Por la Resolución 358, de 26 de octubre de 1999, le fue otorgada a la \\nEmpresa Salinera Matanzas, una concesión de explotación y procesamiento, en el área del \\nyacimiento Salina Bidos, ubicada en el municipio de  Martí, provincia de Matanzas, con el \\nobjeto de explotar y procesar los minerales de sal y fangos medicinales por un término de \\nveinticinco (25) años, para su utilización en el consumo humano e industrial, así como con \\nfines terapéuticos y cosmetológicos, cuyos derechos mineros de explotación de la sal fueron \\nmodificados por la Resolución 22, de 12 de febrero de 2001, por los derechos de procesamiento \\ndel agua de mar para la obtención de sal; y por la Resolución 131, de 28 de marzo \\nde 2002, se le autoriza a dicha Empresa la explotación de los minerales de yeso y anhidrita, \\npara su utilización en la fabricación de cemento; todas dictadas por el ministro de la Industria \\nBásica; posteriormente, por la Resolución 224, de 27 de agosto de 2013, del ministro de \\nEnergía y Minas, se traspasa la referida concesión a favor de la Empresa Nacional de la Sal, \\nen forma abreviada ENSAL, con el objeto de explotar los minerales de yeso y anhidrita \\ny procesar el agua de mar para la obtención de sal para para su utilización en el consumo \\n1796\\nGaceta Oficial de la República\\n20/11/2024\\nGOC-2024-O111\\nhumano e industrial y la fabricación de cemento, excluyéndose los derechos mineros de \\nexplotación de los fangos medicinales; cuya explotación fue posteriormente autorizada \\npor la Resolución 79, de 3 de julio de 2024, de quien resuelve, con el objetivo de utilizarlo \\nen el tratamiento de varias patologías y enfermedades.\\nPOR CUANTO: La Empresa Nacional de la Sal, en forma abreviada ENSAL, ha solicitado \\na la Oficina Nacional de Recursos Minerales una prórroga al término otorgado y \\ndescrito en el Por Cuanto anterior.\\nPOR CUANTO: La Oficina Nacional de Recursos Minerales ha considerado conveniente \\nen su dictamen recomendar al que resuelve otorgue al concesionario dicha prórroga, \\noídos los criterios de los órganos locales correspondientes.\\nPOR TANTO: En el ejercicio de las atribuciones que me han sido conferidas en el \\nArtículo 145, inciso d), de la Constitución de la República de Cuba,\\nRESUELVO\\nPRIMERO: Prorrogar hasta el 26 de octubre de 2049, la concesión de explotación y \\nprocesamiento denominada Salina Bidos, ubicada en el municipio de Martí, provincia de \\nMatanzas, traspasada a la Empresa Nacional de la Sal, en forma abreviada ENSAL. \\nSEGUNDO: El concesionario está obligado a:  \\n1) Solicitar y obtener la Licencia Ambiental ante los funcionarios de la Dirección de \\nla Oficina de Regulación y Seguridad Ambiental de la provincia de Matanzas, antes \\nde continuar los trabajos, según se dispone en la Resolución 132, “Reglamento del \\nproceso de evaluación de impacto ambiental”, de 11 de agosto de 2009, del ministro \\nde Ciencia, Tecnología y Medio Ambiente, y considerar los resultados de los estudios \\nde peligro, vulnerabilidad y riesgo de esa zona, atendiendo a que el municipio \\nde Martí es uno de los más vulnerables en la provincia.\\n2) Cumplir con lo establecido en la Resolución 93, “Reglamento para el control de las \\nemisiones y transferencias de contaminantes”, de 18 de julio de 2023, de la ministra \\nde Ciencia, Tecnología y Medio Ambiente.\\n3) Implementar medidas que garanticen la protección física de las personas, los recursos \\ny medios técnicos, así como la prevención de incendios, antes, durante y después \\nde la ejecución de los trabajos, según lo dispuesto en el Decreto-Ley 186, “Sobre el \\nSistema de Seguridad y Protección Física”, de 17 de junio de 1998, y su Reglamento \\naprobado mediante la Resolución 2, de 5 de marzo de 2001, del ministro del Interior; \\nasí como realizar el estudio de riesgo y vulnerabilidades.\\n4) Informar a la Región Militar de la provincia de Matanzas el cronograma de ejecución \\nde los trabajos autorizados y puntualizar otros datos que puedan ser de interés.\\n5) Contactar con los funcionarios de la Delegación de la Agricultura del municipio de \\nMartí, a los efectos de dar a conocer la prórroga que se autoriza, con sujeción a lo \\nestablecido en el apartado Decimotercero de la citada Resolución 358.\\n6) Cumplir con el Decreto-Ley 50, “Sobre la conservación, mejoramiento y manejo \\nsostenible de los suelos y el uso de los fertilizantes”, de 6 de agosto de 2021 y su \\nReglamento, el Decreto 52, de 1.o de septiembre de 2021.\\n7) Evitar el derrame de combustibles, lubricantes u otras sustancias que puedan contaminar \\nlas aguas terrestres o afectaciones al escurrimiento natural de las corrientes \\nfluviales.\\n8) Abstenerse de depositar desechos, material o sustancias contaminantes que afecten el \\ndrenaje natural del terreno y depositar el material desbrozado, en una zona donde se \\npueda utilizar para la rehabilitación del área minada.\\n9) Rehabilitar el área una vez concluida la actividad minera.\\n10) Pagar la tasa de resarcimiento al Presupuesto del Estado establecida en la Resolución 221, \\nde 28 de septiembre de 2023, del ministro de Finanzas y Precios.\\n1797\\nGaceta Oficial de la República\\n20/11/2024\\nGOC-2024-O111\\nTERCERO: Los términos, condiciones y obligaciones, dispuestos en la Resolución 358, \\nde 26 de octubre de 1999, del ministro de la Industria Básica, son de obligatorio cumplimiento \\npara la Empresa Nacional de la Sal, en forma abreviada ENSAL, con excepción de \\nlos que se opongan a lo establecido en los apartados anteriores de la presente Resolución.\\nCUARTO: El concesionario, durante la realización de las actividades mineras, además \\nde lo dispuesto en la presente Resolución, cumple con las disposiciones contenidas en la \\nreferida Ley 76, “Ley de Minas”, de 21 de diciembre de 1994, y sus disposiciones complementarias\\n; en la Ley 85, “Ley Forestal”, de 21 de julio de 1998, y su Reglamento; la \\nResolución 330, de 7 de septiembre de 1999, del ministro de la Agricultura; en la Ley 124, \\n“De las Aguas Terrestres”, de 14 de julio de 2017, y su Reglamento; el Decreto 337, de 5 \\nde septiembre de 2017; en la Ley 150, “Del Sistema de los Recursos Naturales y el Medio \\nAmbiente”, de 14 de mayo de 2022; la Ley 113 “Del Sistema Tributario”, de 23 de julio \\nde 2012, y su Reglamento; el Decreto 308, de 31 de octubre de 2012; así como las demás disposiciones \\njurídicas que le sean aplicables.\\nNOTIFÍQUESE al director general de la Oficina Nacional de Recursos Minerales y al \\ndirector general de la Empresa Nacional de la Sal, en forma abreviada ENSAL.\\nPUBLÍQUESE en la Gaceta Oficial de la República de Cuba.\\nARCHÍVESE el original en la Dirección Jurídica del Ministerio de Energía y Minas.\\nDADA en La Habana, a los 14 días del mes de noviembre de 2024, “Año 66 de la \\nRevolución”.\\nVicente de la O Levy\\nMinistro\\nGOC-2024-643-O111\\nRESOLUCIÓN 128/2024\\nPOR CUANTO: De conformidad con la Disposición Final Segunda de la Ley 76, “Ley \\nde Minas”, de 21 de diciembre de 1994, se faculta al extinto Ministerio de la Industria \\nBásica, hoy de Energía y Minas para dictar cuantas disposiciones se requieran para la \\nmejor ejecución de esta Ley.\\nPOR CUANTO: Por la Resolución 352, de 26 de octubre de 1999, del ministro de la \\nIndustria Básica se otorga a la Empresa de Cerámica Roja y Refractaria, una concesión de \\nexplotación en el área denominada Moja Hueva, ubicada en el municipio de Consolación \\ndel Sur de la provincia de Pinar del Río, con el objetivo de explotar el mineral arcilla, por \\nun término de veinticinco (25) años, para la producción de elementos de cerámica roja \\npara la construcción; traspasada sucesivamente por las resoluciones 226, de 31 de julio \\nde 2007, a favor de la Empresa de Hormigón y Terrazo y la 210, de 25 de junio de 2008, a \\nfavor de la Empresa de Servicios Minero Geológicos, EXPLOMAT, ambas de la ministra \\nde la Industria Básica.\\nPOR CUANTO: La Empresa de Servicios Minero Geológicos, EXPLOMAT, ha solicitado \\na la Oficina Nacional de Recursos Minerales una prórroga al término otorgado y \\ndescrito en el Por Cuanto anterior, para continuar la explotación del mineral arcilla para \\nsu utilización en la producción de elementos de cerámica roja para la construcción. \\nPOR CUANTO: La Oficina Nacional de Recursos Minerales ha considerado conveniente \\nen su dictamen recomendar al que resuelve, otorgue al concesionario dicha prórroga, \\noídos los criterios de los órganos locales correspondientes.',\n",
       " 'summary': 'Prorroga hasta el 26 de octubre de 2049, la concesión de explotación y procesamiento denominada Salina Bidos,\\xa0 ubicada en el municipio de Martí de la provincia de Matanzas.',\n",
       " 'organism': 'Ministerio de Energía y Minas',\n",
       " 'state': 'Activa',\n",
       " 'year': 2024,\n",
       " 'normtype': 'Resolución',\n",
       " 'number': 127,\n",
       " 'read_count': 0,\n",
       " 'slug': 'resolucion-127-de-2024-de-ministerio-de-energia-y-minas',\n",
       " 'gazette': 'goc-2024-o111_0.pdf'}"
      ]
     },
     "execution_count": 70,
     "metadata": {},
     "output_type": "execute_result"
    }
   ],
   "source": [
    "docs_with_text[1600]"
   ]
  },
  {
   "cell_type": "code",
   "execution_count": 24,
   "metadata": {},
   "outputs": [
    {
     "name": "stdout",
     "output_type": "stream",
     "text": [
      "Adding documents to the retriever\n"
     ]
    },
    {
     "name": "stderr",
     "output_type": "stream",
     "text": [
      "WARNING clustering 659 points to 25 centroids: please provide at least 975 training points\n"
     ]
    },
    {
     "data": {
      "application/vnd.jupyter.widget-view+json": {
       "model_id": "f269aa47d61e4f7591997de9c6f859a4",
       "version_major": 2,
       "version_minor": 0
      },
      "text/plain": [
       "BM25S Create Vocab:   0%|          | 0/659 [00:00<?, ?it/s]"
      ]
     },
     "metadata": {},
     "output_type": "display_data"
    },
    {
     "data": {
      "application/vnd.jupyter.widget-view+json": {
       "model_id": "e55e98b2e1424205bde5ed2d690487ca",
       "version_major": 2,
       "version_minor": 0
      },
      "text/plain": [
       "BM25S Convert tokens to indices:   0%|          | 0/659 [00:00<?, ?it/s]"
      ]
     },
     "metadata": {},
     "output_type": "display_data"
    },
    {
     "data": {
      "application/vnd.jupyter.widget-view+json": {
       "model_id": "503979a28ea7400ca67d3b994339f5a7",
       "version_major": 2,
       "version_minor": 0
      },
      "text/plain": [
       "BM25S Count Tokens:   0%|          | 0/659 [00:00<?, ?it/s]"
      ]
     },
     "metadata": {},
     "output_type": "display_data"
    },
    {
     "data": {
      "application/vnd.jupyter.widget-view+json": {
       "model_id": "b085732ac8594816b129184f4e49dc4d",
       "version_major": 2,
       "version_minor": 0
      },
      "text/plain": [
       "BM25S Compute Scores:   0%|          | 0/659 [00:00<?, ?it/s]"
      ]
     },
     "metadata": {},
     "output_type": "display_data"
    }
   ],
   "source": [
    "# 2. Create a retriever to handle the retrieval process.\n",
    "# Store the documents\n",
    "basic_storage = BasicStorage()\n",
    "# For handling the storage and retrieval of data chunks with semantic search\n",
    "semantic_retriever = VectorRetriever()\n",
    "# For handling the storage and retrieval of data chunks with lexical search\n",
    "lexical_retriever = LexicalRetriever()\n",
    "# A retriever for handling all the retrieval process\n",
    "hybrid_retriever = HybridRetriever(basic_storage, retrievers=[semantic_retriever,lexical_retriever])\n",
    "# Add the documents to the retriever\n",
    "print(\"Adding documents to the retriever\")\n",
    "hybrid_retriever.add(chunked_documents)\n"
   ]
  },
  {
   "cell_type": "code",
   "execution_count": 25,
   "metadata": {},
   "outputs": [
    {
     "data": {
      "application/vnd.jupyter.widget-view+json": {
       "model_id": "f8f6f70b2cdb440fb262774436cded50",
       "version_major": 2,
       "version_minor": 0
      },
      "text/plain": [
       "BM25S Retrieve:   0%|          | 0/1 [00:00<?, ?it/s]"
      ]
     },
     "metadata": {},
     "output_type": "display_data"
    },
    {
     "name": "stdout",
     "output_type": "stream",
     "text": [
      "['1-124', '1-13', '1-262', '1-60', '1-61', '1-64', '1-80', '2-10', '2-11', '2-15', '2-169', '2-239', '2-243', '2-244', '2-249', '2-34', '2-60', '2-69', '2-80', '2-95']\n",
      "['1-124', '1-13', '1-262', '1-60', '1-61', '1-64', '1-80', '2-10', '2-11', '2-15', '2-169', '2-239', '2-243', '2-244', '2-249', '2-34', '2-60', '2-69', '2-80', '2-95']\n"
     ]
    }
   ],
   "source": [
    "query1 = \"Cuales son los subsistemas endogenos del modelo pentagonal\"\n",
    "docu = hybrid_retriever.search([query1])"
   ]
  },
  {
   "cell_type": "code",
   "execution_count": 31,
   "metadata": {},
   "outputs": [
    {
     "name": "stdout",
     "output_type": "stream",
     "text": [
      "{'id': '2-60', 'text': 'sea el modelo que se siga, en todas las sociedades modernas se delimita, se legaliza, y se conduce estatalmente el proceso económico. Es usual que los gober nantes aseguren el equilibrio de la moneda, la política comercial, la estabilidad de los pr ecios, el control de las inversiones, asignen 49BIDART CAMPOS Germán J. La Constitución económica . Fundación Universitaria de Derecho, Administración y Política, México, 2003, p. 37 48 recursos por vía presupuestaria, establezc an la política tributaria, dicten medidas promocionales, etc., y toda esa actividad económica, su estructura, organización, funcionamiento es comúnmente regulada, porque aunque su contenido a simple vista pudiera centrarse principalmente en los recursos con que se cuenta; es vital para el logro de sus fines, tener en cuenta cómo se permiten usar esos recursos, precisamente, en virtud de la estrecha y recíproca relación que existe entre los fenómenos jurídicos y los económicos. 2º En ese sentido, el estudio de las reglas constitucionales es básico para reflexionar sobre la esencia, el alcance y los límites de cualquier orden económico. La Constitución ofrece garantías, seguridad jurídica y también estabilidad política ante la sucesión de gobiernos y las disimiles y hasta contrarias doctrinas económicas que estos pueden defender; en tanto no es el resultado de circunstancias transitorias, debe ser un orden normativo supremo, duradero y estable. En la concepción cubana, el orden socioeconómico constitucional puede disponer de límites flexibles, “pero siempre cercados por un perímetro vinculante,” 50 que frene su violación: la Constitución es una decisión del pueblo soberano.', 'document_id': 2, 'chunk_id': 60, 'chunk_index': 351, '/CreationDate': \"D:20130904211626-04'00'\", '/Author': 'Ramón', '/Creator': 'PScript5.dll Version 5.2', '/Producer': 'Acrobat Distiller 7.0 (Windows)', '/ModDate': \"D:20130904211626-04'00'\", '/Title': 'Microsoft Word - Libro POP-2ª Parte-Versión final.docx'}\n"
     ]
    }
   ],
   "source": [
    "print(docu[2])"
   ]
  },
  {
   "cell_type": "code",
   "execution_count": 49,
   "metadata": {},
   "outputs": [],
   "source": [
    "bot = Chatbot(hybrid_retriever,\n",
    "              system_prompt=academic_system_prompt,\n",
    "              user_prompt=academic_user_prompt\n",
    "              )"
   ]
  },
  {
   "cell_type": "code",
   "execution_count": 54,
   "metadata": {},
   "outputs": [],
   "source": [
    "query1 = \"Cuales son los subsistemas endogenos del modelo pentagonal\""
   ]
  },
  {
   "cell_type": "code",
   "execution_count": 55,
   "metadata": {},
   "outputs": [
    {
     "data": {
      "application/vnd.jupyter.widget-view+json": {
       "model_id": "1b744fe57bf2461c9c3cad748ee3e35c",
       "version_major": 2,
       "version_minor": 0
      },
      "text/plain": [
       "BM25S Retrieve:   0%|          | 0/1 [00:00<?, ?it/s]"
      ]
     },
     "metadata": {},
     "output_type": "display_data"
    },
    {
     "data": {
      "text/plain": [
       "'Los subsistemas endógenos del modelo pentagonal son: recursos turísticos y atractivos, productos turísticos, organización y comercialización de la oferta turística, y flujos turísticos.'"
      ]
     },
     "execution_count": 55,
     "metadata": {},
     "output_type": "execute_result"
    }
   ],
   "source": [
    "bot.reply(query1)"
   ]
  },
  {
   "cell_type": "code",
   "execution_count": 52,
   "metadata": {},
   "outputs": [],
   "source": [
    "query2 = \"Menciona todos los subsistemas que encuentres en el contexto del modelo pentagonal\""
   ]
  },
  {
   "cell_type": "code",
   "execution_count": 53,
   "metadata": {},
   "outputs": [
    {
     "data": {
      "application/vnd.jupyter.widget-view+json": {
       "model_id": "58ce83641f8a444eb81db0ed2a60c78d",
       "version_major": 2,
       "version_minor": 0
      },
      "text/plain": [
       "BM25S Retrieve:   0%|          | 0/1 [00:00<?, ?it/s]"
      ]
     },
     "metadata": {},
     "output_type": "display_data"
    },
    {
     "data": {
      "text/plain": [
       "'Subsistemas exógenos o integrantes del ‘entorno turístico’, Subsistemas endógenos o propiamente turísticos, Subsistema macroentorno o ambiente general'"
      ]
     },
     "execution_count": 53,
     "metadata": {},
     "output_type": "execute_result"
    }
   ],
   "source": [
    "bot.reply(query2)"
   ]
  }
 ],
 "metadata": {
  "kernelspec": {
   "display_name": ".env",
   "language": "python",
   "name": "python3"
  },
  "language_info": {
   "codemirror_mode": {
    "name": "ipython",
    "version": 3
   },
   "file_extension": ".py",
   "mimetype": "text/x-python",
   "name": "python",
   "nbconvert_exporter": "python",
   "pygments_lexer": "ipython3",
   "version": "3.10.12"
  }
 },
 "nbformat": 4,
 "nbformat_minor": 2
}
