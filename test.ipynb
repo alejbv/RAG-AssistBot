{
 "cells": [
  {
   "cell_type": "code",
   "execution_count": 1,
   "metadata": {},
   "outputs": [],
   "source": [
    "#Cargar la extensión autoreload\n",
    "%load_ext autoreload\n",
    "%autoreload 2\n",
    "# Retriever tools\n",
    "from libs.chatbot import Chatbot\n",
    "from libs.vector_retriever import VectorRetriever\n",
    "from libs.lexical_retriever import LexicalRetriever\n",
    "from libs.basic_document_storage import BasicStorage\n",
    "from libs.hybrid_retriever import HybridRetriever\n",
    "from libs.pdf_loader import PDFLoader\n",
    "from libs.basic_text_splitter import BasicTextSplitter\n",
    "\n",
    "# Prompt Tools\n",
    "from prompts.academic_assistant_prompt import system_prompt as academic_system_prompt\n",
    "from prompts.academic_assistant_prompt import user_prompt as academic_user_prompt"
   ]
  },
  {
   "cell_type": "code",
   "execution_count": 2,
   "metadata": {},
   "outputs": [],
   "source": [
    "# 1. Load, chunk and index the contents of the blog to create a retriever.\n",
    "# Load the documents\n",
    "pdf_loader = PDFLoader(file_filter={\".pdf\"})\n",
    "documents = pdf_loader.load_data()\n",
    "# Split the documents in chunks\n",
    "splitter = BasicTextSplitter()\n",
    "chunked_documents = splitter.split_documents(documents)\n",
    "# Store the documents\n",
    "basic_storage = BasicStorage()\n",
    "basic_storage.add_documents(chunked_documents)\n"
   ]
  },
  {
   "cell_type": "code",
   "execution_count": 3,
   "metadata": {},
   "outputs": [
    {
     "name": "stdout",
     "output_type": "stream",
     "text": [
      "Adding documents to the retriever\n"
     ]
    },
    {
     "name": "stderr",
     "output_type": "stream",
     "text": [
      "WARNING clustering 659 points to 25 centroids: please provide at least 975 training points\n"
     ]
    },
    {
     "data": {
      "application/vnd.jupyter.widget-view+json": {
       "model_id": "a4e2e109493547a9a09b2e238b3d166a",
       "version_major": 2,
       "version_minor": 0
      },
      "text/plain": [
       "BM25S Create Vocab:   0%|          | 0/659 [00:00<?, ?it/s]"
      ]
     },
     "metadata": {},
     "output_type": "display_data"
    },
    {
     "data": {
      "application/vnd.jupyter.widget-view+json": {
       "model_id": "488f173117ba46d19ad2b8517af3b7f1",
       "version_major": 2,
       "version_minor": 0
      },
      "text/plain": [
       "BM25S Convert tokens to indices:   0%|          | 0/659 [00:00<?, ?it/s]"
      ]
     },
     "metadata": {},
     "output_type": "display_data"
    },
    {
     "data": {
      "application/vnd.jupyter.widget-view+json": {
       "model_id": "7d5b3a50032c44eabbabd887bd36c352",
       "version_major": 2,
       "version_minor": 0
      },
      "text/plain": [
       "BM25S Count Tokens:   0%|          | 0/659 [00:00<?, ?it/s]"
      ]
     },
     "metadata": {},
     "output_type": "display_data"
    },
    {
     "data": {
      "application/vnd.jupyter.widget-view+json": {
       "model_id": "fe8071d92c0a490eaed72b4d0b8f45e9",
       "version_major": 2,
       "version_minor": 0
      },
      "text/plain": [
       "BM25S Compute Scores:   0%|          | 0/659 [00:00<?, ?it/s]"
      ]
     },
     "metadata": {},
     "output_type": "display_data"
    }
   ],
   "source": [
    "# 2. Create a retriever to handle the retrieval process.\n",
    "# For handling the storage and retrieval of data chunks with semantic search\n",
    "semantic_retriever = VectorRetriever()\n",
    "# For handling the storage and retrieval of data chunks with lexical search\n",
    "lexical_retriever = LexicalRetriever()\n",
    "# A retriever for handling all the retrieval process\n",
    "hybrid_retriever = HybridRetriever(storage_= basic_storage, retrievers=[semantic_retriever,lexical_retriever])\n",
    "# Add the documents to the retriever\n",
    "print(\"Adding documents to the retriever\")\n",
    "hybrid_retriever.add(chunked_documents)\n"
   ]
  },
  {
   "cell_type": "code",
   "execution_count": 4,
   "metadata": {},
   "outputs": [],
   "source": [
    "bot = Chatbot(hybrid_retriever,\n",
    "              system_prompt=academic_system_prompt,\n",
    "              user_prompt=academic_user_prompt\n",
    "              )"
   ]
  },
  {
   "cell_type": "code",
   "execution_count": 5,
   "metadata": {},
   "outputs": [],
   "source": [
    "query1 = \"Cuales son las distintas formas de turismo\"\n",
    "query2= \"Hablame de los pasos principales de la organización y el desarrollo de un viaje y los tipos de entidades participantes en ello\""
   ]
  },
  {
   "cell_type": "code",
   "execution_count": 6,
   "metadata": {},
   "outputs": [
    {
     "data": {
      "application/vnd.jupyter.widget-view+json": {
       "model_id": "36880d7012154872a958f12ee944afc7",
       "version_major": 2,
       "version_minor": 0
      },
      "text/plain": [
       "BM25S Retrieve:   0%|          | 0/1 [00:00<?, ?it/s]"
      ]
     },
     "metadata": {},
     "output_type": "display_data"
    },
    {
     "name": "stdout",
     "output_type": "stream",
     "text": [
      "context='El contexto proporcionado incluye una lista de 17 formas de turismo diferentes, entre las que se encuentran el turismo de sol y playa, turismo cultural, turismo de reuniones, turismo deportivo, turismo náutico, turismo académico y científico, turismo de naturaleza, turismo de salud, turismo de negocios, viajes de incentivo, turismo de cruceros, turismo de intereses sociales, turismo de intercambio profesional, turismo religioso, turismo de hobbies, aficiones, turismo de bodas y lunas de miel, turismo de aventura y turismo de parques temáticos.' query='Cuales son las distintas formas de turismo' response='Las distintas formas de turismo mencionadas son: turismo de sol y playa, turismo cultural, turismo de reuniones, turismo deportivo, turismo náutico, turismo académico y científico, turismo de naturaleza, turismo de salud, turismo de negocios, viajes de incentivo, turismo de cruceros, turismo de intereses sociales, turismo de intercambio profesional, turismo religioso, turismo de hobbies, aficiones, turismo de bodas y lunas de miel, turismo de aventura y turismo de parques temáticos.' reasoning='El contexto proporcionado incluye una lista de 17 formas de turismo diferentes. Las formas de turismo mencionadas son: turismo de sol y playa, turismo cultural, turismo de reuniones, turismo deportivo, turismo náutico, turismo académico y científico, turismo de naturaleza, turismo de salud, turismo de negocios, viajes de incentivo, turismo de cruceros, turismo de intereses sociales, turismo de intercambio profesional, turismo religioso, turismo de hobbies, aficiones, turismo de bodas y lunas de miel, turismo de aventura y turismo de parques temáticos.' references='El contexto proporcionado no incluye referencias específicas.' feedback='' error=''\n"
     ]
    }
   ],
   "source": [
    "r1 =bot.reply(query1)"
   ]
  },
  {
   "cell_type": "code",
   "execution_count": 8,
   "metadata": {},
   "outputs": [
    {
     "data": {
      "text/plain": [
       "'Las distintas formas de turismo mencionadas son: turismo de sol y playa, turismo cultural, turismo de reuniones, turismo deportivo, turismo náutico, turismo académico y científico, turismo de naturaleza, turismo de salud, turismo de negocios, viajes de incentivo, turismo de cruceros, turismo de intereses sociales, turismo de intercambio profesional, turismo religioso, turismo de hobbies, aficiones, turismo de bodas y lunas de miel, turismo de aventura y turismo de parques temáticos.'"
      ]
     },
     "execution_count": 8,
     "metadata": {},
     "output_type": "execute_result"
    }
   ],
   "source": [
    "r1"
   ]
  },
  {
   "cell_type": "code",
   "execution_count": 9,
   "metadata": {},
   "outputs": [
    {
     "data": {
      "application/vnd.jupyter.widget-view+json": {
       "model_id": "8429b1170b6b42f0b6cd46b801bd5e1e",
       "version_major": 2,
       "version_minor": 0
      },
      "text/plain": [
       "BM25S Retrieve:   0%|          | 0/1 [00:00<?, ?it/s]"
      ]
     },
     "metadata": {},
     "output_type": "display_data"
    }
   ],
   "source": [
    "r2 =bot.reply(query2)"
   ]
  },
  {
   "cell_type": "code",
   "execution_count": 10,
   "metadata": {},
   "outputs": [
    {
     "data": {
      "text/plain": [
       "'Los pasos principales de la organización y el desarrollo de un viaje incluyen la preparación, ejecución y post-viaje. En la fase de preparación, hay actividades relacionadas con los hoteles, restaurantes y el turismo, administración de proyectos de objetivos múltiples, regulación de sectores comerciales diversos, administración de actividades laborales generales, aplicación de políticas de investigación y desarrollo, ejecución de medidas de política de desarrollo regional y regulación y administración de actividades relacionadas con los transportes y las comunicaciones. En la fase de ejecución, se incluyen las actividades recreativas con fines de esparcimiento al aire libre o bajo techo, con la participación de atletas, así como la explotación de las instalaciones en que se realizan tales actividades. En la fase de post-viaje, se administra la información de que disponen para la toma de decisiones y se reducen costos. Las entidades participantes en el turismo incluyen hoteles, restaurantes, agencias de viajes, transportistas, turoperadores, administraciones nacionales de turismo, entre otras.'"
      ]
     },
     "execution_count": 10,
     "metadata": {},
     "output_type": "execute_result"
    }
   ],
   "source": [
    "r2"
   ]
  }
 ],
 "metadata": {
  "kernelspec": {
   "display_name": ".env",
   "language": "python",
   "name": "python3"
  },
  "language_info": {
   "codemirror_mode": {
    "name": "ipython",
    "version": 3
   },
   "file_extension": ".py",
   "mimetype": "text/x-python",
   "name": "python",
   "nbconvert_exporter": "python",
   "pygments_lexer": "ipython3",
   "version": "3.10.12"
  }
 },
 "nbformat": 4,
 "nbformat_minor": 2
}
