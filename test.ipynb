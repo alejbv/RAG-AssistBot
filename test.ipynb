{
 "cells": [
  {
   "cell_type": "code",
   "execution_count": 21,
   "metadata": {},
   "outputs": [
    {
     "name": "stdout",
     "output_type": "stream",
     "text": [
      "The autoreload extension is already loaded. To reload it, use:\n",
      "  %reload_ext autoreload\n"
     ]
    }
   ],
   "source": [
    "#Cargar la extensión autoreload\n",
    "%load_ext autoreload\n",
    "%autoreload 2\n",
    "# Retriever tools\n",
    "from libs.chatbot import Chatbot\n",
    "from libs.vector_retriever import VectorRetriever\n",
    "from libs.lexical_retriever import LexicalRetriever\n",
    "from libs.basic_document_storage import BasicStorage\n",
    "from libs.hybrid_retriever import HybridRetriever\n",
    "from libs.pdf_loader import PDFLoader\n",
    "from libs.basic_text_splitter import BasicTextSplitter\n",
    "\n",
    "# Prompt Tools\n",
    "from prompts.academic_assistant_prompt import system_prompt as academic_system_prompt\n",
    "from prompts.academic_assistant_prompt import user_prompt as academic_user_prompt"
   ]
  },
  {
   "cell_type": "code",
   "execution_count": 2,
   "metadata": {},
   "outputs": [],
   "source": [
    "# 1. Load, chunk and index the contents of the blog to create a retriever.\n",
    "# Load the documents\n",
    "pdf_loader = PDFLoader(file_filter={\".pdf\"})\n",
    "documents = pdf_loader.load_data()\n",
    "# Split the documents in chunks\n",
    "splitter = BasicTextSplitter()\n",
    "chunked_documents = splitter.split_documents(documents)\n",
    "# Store the documents\n",
    "basic_storage = BasicStorage()\n",
    "basic_storage.add_documents(chunked_documents)\n"
   ]
  },
  {
   "cell_type": "code",
   "execution_count": 3,
   "metadata": {},
   "outputs": [
    {
     "name": "stdout",
     "output_type": "stream",
     "text": [
      "Adding documents to the retriever\n"
     ]
    },
    {
     "name": "stderr",
     "output_type": "stream",
     "text": [
      "WARNING clustering 659 points to 25 centroids: please provide at least 975 training points\n"
     ]
    },
    {
     "data": {
      "application/vnd.jupyter.widget-view+json": {
       "model_id": "ab2dbd92e64b4617bb0c7a4564a424cb",
       "version_major": 2,
       "version_minor": 0
      },
      "text/plain": [
       "BM25S Create Vocab:   0%|          | 0/659 [00:00<?, ?it/s]"
      ]
     },
     "metadata": {},
     "output_type": "display_data"
    },
    {
     "data": {
      "application/vnd.jupyter.widget-view+json": {
       "model_id": "31a4c7e139644be2807aa28d85d8f04d",
       "version_major": 2,
       "version_minor": 0
      },
      "text/plain": [
       "BM25S Convert tokens to indices:   0%|          | 0/659 [00:00<?, ?it/s]"
      ]
     },
     "metadata": {},
     "output_type": "display_data"
    },
    {
     "data": {
      "application/vnd.jupyter.widget-view+json": {
       "model_id": "cf49f4e2268845f99abe597d4db4cdf9",
       "version_major": 2,
       "version_minor": 0
      },
      "text/plain": [
       "BM25S Count Tokens:   0%|          | 0/659 [00:00<?, ?it/s]"
      ]
     },
     "metadata": {},
     "output_type": "display_data"
    },
    {
     "data": {
      "application/vnd.jupyter.widget-view+json": {
       "model_id": "951a7be0ffec4e06bdfa35ea82429f49",
       "version_major": 2,
       "version_minor": 0
      },
      "text/plain": [
       "BM25S Compute Scores:   0%|          | 0/659 [00:00<?, ?it/s]"
      ]
     },
     "metadata": {},
     "output_type": "display_data"
    }
   ],
   "source": [
    "# 2. Create a retriever to handle the retrieval process.\n",
    "# For handling the storage and retrieval of data chunks with semantic search\n",
    "semantic_retriever = VectorRetriever()\n",
    "# For handling the storage and retrieval of data chunks with lexical search\n",
    "lexical_retriever = LexicalRetriever()\n",
    "# A retriever for handling all the retrieval process\n",
    "hybrid_retriever = HybridRetriever(storage_= basic_storage, retrievers=[semantic_retriever,lexical_retriever])\n",
    "# Add the documents to the retriever\n",
    "print(\"Adding documents to the retriever\")\n",
    "hybrid_retriever.add(chunked_documents)\n"
   ]
  },
  {
   "cell_type": "code",
   "execution_count": 36,
   "metadata": {},
   "outputs": [],
   "source": [
    "bot = Chatbot(hybrid_retriever,\n",
    "              system_prompt=academic_system_prompt,\n",
    "              user_prompt=academic_user_prompt\n",
    "              )"
   ]
  },
  {
   "cell_type": "code",
   "execution_count": 5,
   "metadata": {},
   "outputs": [],
   "source": [
    "query1 = \"Cuales son las distintas formas de turismo\"\n",
    "query2= \"Hablame de los pasos principales de la organización y el desarrollo de un viaje y los tipos de entidades participantes en ello\""
   ]
  },
  {
   "cell_type": "code",
   "execution_count": 37,
   "metadata": {},
   "outputs": [
    {
     "data": {
      "application/vnd.jupyter.widget-view+json": {
       "model_id": "66a9823c09744353b3204f459fcc439f",
       "version_major": 2,
       "version_minor": 0
      },
      "text/plain": [
       "BM25S Retrieve:   0%|          | 0/1 [00:00<?, ?it/s]"
      ]
     },
     "metadata": {},
     "output_type": "display_data"
    },
    {
     "name": "stdout",
     "output_type": "stream",
     "text": [
      "ChatCompletionOutputMessage(role='assistant', content='{\\n    \"context\": \"Turismo de sol y playa ( relax + activo). Turismo cultural (ciudades, entornos culturales significativos). Turismo de reuniones (congresos, convenciones y otros eventos). Turismo deportivo (activo: torneos + competencias: pasivo: espectadores). Turismo náutico (buceo, vida a bordo, paseos en embarcaciones, yatismo, veleros, etcétera). Turismo académico y científico (cursos, idiomas, etcétera). Turismo de naturaleza (ecoturismo, agroturismo, vacaciones en la naturaleza). Turismo de salud (belleza, salud mental y corporal, hospitalario y no hospitalario). Turismo de negocios. Viajes de incentivo. Turismo de cruceros. Turismo de intereses sociales. Turismo de intercambio profesional. Turismo religioso. Turismo de hobbies, aficiones. Turismo de bodas y lunas de miel. Turismo de aventura (hard y soft). Turismo de parques temáticos (sitios de diversión o aprendizaje o ambos a la vez, normalmente antrópicos).\",\\n    \"query\": \"Cuales son las distintas formas de turismo\",\\n    \"response\": \"Turismo de sol y playa, turismo cultural, turismo de reuniones, turismo deportivo, turismo náutico, turismo académico y científico, turismo de naturaleza, turismo de salud, turismo de negocios, viajes de incentivo, turismo de cruceros, turismo de intereses sociales, turismo de intercambio profesional, turismo religioso, turismo de hobbies, aficiones, turismo de bodas y lunas de miel, turismo de aventura, turismo de parques temáticos.\",\\n    \"reasoning\": \"Las formas de turismo se mencionan en el contexto proporcionado, donde se enumeran diferentes tipos de turismo, como el turismo de sol y playa, el turismo cultural, el turismo de reuniones, el turismo deportivo, el turismo náutico, el turismo académico y científico, el turismo de naturaleza, el turismo de salud, el turismo de negocios, los viajes de incentivo, el turismo de cruceros, el turismo de intereses sociales, el turismo de intercambio profesional, el turismo religioso, el turismo de hobbies, aficiones, el turismo de bodas y lunas de miel, el turismo de aventura, el turismo de parques temáticos.\",\\n    \"references\": \"Contexto proporcionado\",\\n    \"feedback\": \"La pregunta se respondió correctamente.\",\\n    \"response_length\": \"108\",\\n    \"error\": \"Ninguno\"\\n}', tool_calls=None)\n",
      "{\n",
      "    \"context\": \"Turismo de sol y playa ( relax + activo). Turismo cultural (ciudades, entornos culturales significativos). Turismo de reuniones (congresos, convenciones y otros eventos). Turismo deportivo (activo: torneos + competencias: pasivo: espectadores). Turismo náutico (buceo, vida a bordo, paseos en embarcaciones, yatismo, veleros, etcétera). Turismo académico y científico (cursos, idiomas, etcétera). Turismo de naturaleza (ecoturismo, agroturismo, vacaciones en la naturaleza). Turismo de salud (belleza, salud mental y corporal, hospitalario y no hospitalario). Turismo de negocios. Viajes de incentivo. Turismo de cruceros. Turismo de intereses sociales. Turismo de intercambio profesional. Turismo religioso. Turismo de hobbies, aficiones. Turismo de bodas y lunas de miel. Turismo de aventura (hard y soft). Turismo de parques temáticos (sitios de diversión o aprendizaje o ambos a la vez, normalmente antrópicos).\",\n",
      "    \"query\": \"Cuales son las distintas formas de turismo\",\n",
      "    \"response\": \"Turismo de sol y playa, turismo cultural, turismo de reuniones, turismo deportivo, turismo náutico, turismo académico y científico, turismo de naturaleza, turismo de salud, turismo de negocios, viajes de incentivo, turismo de cruceros, turismo de intereses sociales, turismo de intercambio profesional, turismo religioso, turismo de hobbies, aficiones, turismo de bodas y lunas de miel, turismo de aventura, turismo de parques temáticos.\",\n",
      "    \"reasoning\": \"Las formas de turismo se mencionan en el contexto proporcionado, donde se enumeran diferentes tipos de turismo, como el turismo de sol y playa, el turismo cultural, el turismo de reuniones, el turismo deportivo, el turismo náutico, el turismo académico y científico, el turismo de naturaleza, el turismo de salud, el turismo de negocios, los viajes de incentivo, el turismo de cruceros, el turismo de intereses sociales, el turismo de intercambio profesional, el turismo religioso, el turismo de hobbies, aficiones, el turismo de bodas y lunas de miel, el turismo de aventura, el turismo de parques temáticos.\",\n",
      "    \"references\": \"Contexto proporcionado\",\n",
      "    \"feedback\": \"La pregunta se respondió correctamente.\",\n",
      "    \"response_length\": \"108\",\n",
      "    \"error\": \"Ninguno\"\n",
      "}\n"
     ]
    }
   ],
   "source": [
    "r1 =bot.reply(query1)\n",
    "print(str(r1))"
   ]
  },
  {
   "cell_type": "code",
   "execution_count": 39,
   "metadata": {},
   "outputs": [],
   "source": [
    "from json import loads"
   ]
  },
  {
   "cell_type": "code",
   "execution_count": 38,
   "metadata": {},
   "outputs": [
    {
     "data": {
      "application/vnd.jupyter.widget-view+json": {
       "model_id": "40fe4907d38b4870a499422717b1a4ff",
       "version_major": 2,
       "version_minor": 0
      },
      "text/plain": [
       "BM25S Retrieve:   0%|          | 0/1 [00:00<?, ?it/s]"
      ]
     },
     "metadata": {},
     "output_type": "display_data"
    },
    {
     "name": "stdout",
     "output_type": "stream",
     "text": [
      "ChatCompletionOutputMessage(role='assistant', content='{\\n    \"context\": \"En la fase de preparación del viaje y desplazamiento:\\n    \\x81 Fenómenos de comunicación social (en cuanto a la imagen de un país o región en otro) y comunicación promocional: de empuje (atracción) del destino o producto turístico específico hacia (de) la clientela potencial. Estas son relaciones del tipo psicosociológicas.\\n    \\x81 Relaciones comerciales interempresas (contratos previos entre suministradores de servicios de viajes y estancias del destino con entidades del emisor) y relaciones comerciales de compra-venta de viajes, entre los distintos tipos de clientes finales y las agencias o vendedores de viajes.\\n    \\x81 Relaciones y normativas jurídicas: de los procesos migratorios o de salida-entrada entre países (requisitos de pasaportes o de otras identi- ficaciones, visados, regulaciones sanitarias, etcétera) y de los procesos aduanales o de control de ingreso de salidas-entradas de mercancías entre países.\\n    \\x81 Realización “productiva” de servicios de transportes entre puntos de emisión y puntos de destino.\\n\\nEn la fase de frontera:\\n    \\x81 Relaciones y normativas jurídicas (proceso migratorio y aduanal) y sani- tarias (previstas y comprobadas antes de comenzarse el viaje propiamente dicho).\\n    \\x81 Relaciones comerciales de entidades con clientes finales.\\n    \\x81 Fenómenos de información y comunicación.\\n\\nEn:\\n    \\x81 Relaciones y normativas jurídicas (proceso migratorio y aduanal) y sani- tarias (previstas y comprobadas antes de comenzarse el viaje propiamente dicho).\\n    \\x81 Relaciones comerciales de entidades con clientes finales.\\n    \\x81 Fenómenos de información y comunicación.\\n\\nEn la fase de estancia en el destino:\\n    \\x81 Relaciones de “producción” y consumo de los servicios y productos.\\n    \\x81 Relaciones comerciales de compra-venta de bienes y servicios.\\n    \\x81 Relaciones y normativas jurídicas, sanitarias, etcétera, de convivencia y protección a los visitantes.\\n    \\x81 Relaciones psicosociológicas del contacto entre visitantes y comunidad local, así como vínculos con la cultura.\\n    \\x81 Fenómeno de inserción de flujos de visitantes en los espacios territoriales.\\n\\nAhora nos encaminamos a estudiar las entidades participantes en estas fases y sus modos principales de actuación.\\n    1.3.2. Entidades participantes en el turismo\\n    Es importante destacar que las entidades pueden ser estatales o gubernamentales (de servicio público); negocios empresariales con fines de lucro (públicos, privados o mixtos) y entidades sin afán de lucro que incluyen a las unidades presupuestadas, a las llamadas Organizaciones No Gubernamentales (ONG’s) y a las asociaciones profesionales.\\n    1.3.3. Relaciones interentidades en los procesos tecnológicos del sector\\n    Las entidades que participan en el turismo deben trabajar en sinergia para lograr un desarrollo sostenible del sector. Esto se puede lograr mediante la cooperación entre las entidades y la coordinación de sus esfuerzos.\\n    1.3.4. Tipos de entidades participantes en el turismo\\n    Las entidades participantes en el turismo pueden ser:\\n    1. Entidades de origen: estas son las entidades que están relacionadas con la emisión de los viajes. Incluyen a las agencias de viajes, los turoperadores, las empresas de transporte y las organizaciones de viajes de incentivo.\\n    2. Entidades de destino: estas son las entidades que están relacionadas con la recepción de los viajes. Incluyen a las agencias de viajes receptivas, las administraciones nacionales de turismo, las entidades del producto “instalaciones”, las entidades del producto “transporte” y las entidades especializadas en turismo.\\n    1.4. El proceso turístico internacional y las entidades participantes\\n    El proceso turístico internacional se puede dividir en tres fases: la preparación del viaje, la frontera y la estancia en el destino. En cada fase, hay entidades que participan y realizan diferentes actividades.\\n    1.4.1. Revisión del proceso turístico\\n    El proceso turístico internacional se puede dividir en tres fases: la preparación del viaje, la frontera y la estancia en el destino. En la fase de preparación, se realizan las siguientes actividades:\\n    \\x81 Fenómenos de comunicación social y comunicación promocional: se busca atraer a la clientela potencial al destino o producto turístico específico.\\n    \\x81 Relaciones comerciales interempresas: se realizan contratos previos entre suministradores de servicios de viajes y estancias del destino con entidades del emisor.\\n    \\x81 Relaciones y normativas jurídicas: se realizan los procesos migratorios o de salida-entrada entre países y los procesos aduanales o de control de ingreso de salidas-entradas de mercancías entre países.\\n    \\x81 Realización “productiva” de servicios de transportes entre puntos de emisión y puntos de destino.\\n    1.4.2. Entidades participantes en el turismo\\n    Las entidades que participan en el turismo deben trabajar en sinergia para lograr un desarrollo sostenible del sector. Esto se puede lograr mediante la cooperación entre las entidades y la coordinación de sus esfuerzos.\\n    Las entidades participantes en el turismo pueden ser:\\n    1. Entidades de origen: estas son las entidades que están relacionadas con la emisión de los viajes. Incluyen a las agencias de viajes, los turoperadores, las empresas de transporte y las organizaciones de viajes de incentivo.\\n    2. Entidades de destino: estas son las entidades que están relacionadas con la recepción de los viajes. Incluyen a las agencias de viajes receptivas, las administraciones nacionales de turismo, las entidades del producto “instalaciones”, las entidades del producto “transporte” y las entidades especializadas en turismo.\",\\n    \"query\": \"Hablame de los pasos principales de la organización y el desarrollo de un viaje y los tipos de entidades participantes en ello\",\\n    \"response\": \"Los pasos principales de la organización y el desarrollo de un viaje incluyen la preparación del viaje y desplazamiento, la frontera y la estancia en el destino. En cada fase, hay entidades que participan y realizan diferentes actividades. Las entidades participantes en el turismo pueden ser estatales o gubernamentales (de servicio público); negocios empresariales con fines de lucro (públicos, privados o mixtos) y entidades sin afán de lucro que incluyen a las unidades presupuestadas, a las llamadas Organizaciones No Gubernamentales (ONG’s) y a las asociaciones profesionales. Las entidades de origen están relacionadas con la emisión de los viajes y incluyen a las agencias de viajes, los turoperadores, las empresas de transporte y las organizaciones de viajes de incentivo. Las entidades de destino están relacionadas con la recepción de los viajes y incluyen a las agencias de viajes receptivas, las administraciones nacionales de turismo, las entidades del producto “instalaciones”, las entidades del producto “transporte” y las entidades especializadas en turismo.\",\\n    \"reasoning\": \"Se extrae la información relevante del contexto proporcionado sobre los pasos principales de la organización y el desarrollo de un viaje y los tipos de entidades participantes en ello. Se identifican las fases del viaje (preparación, frontera y estancia en el destino) y las entidades que participan en cada fase (entidades de origen y entidades de destino). Se describe la naturaleza de las entidades participantes (estatales o gubernamentales, empresariales o sin afán de lucro) y su función en el desarrollo del viaje (emisión de viajes o recepción de viajes).\",\\n    \"references\": \"Contexto proporcionado\",\\n    \"feedback\": \"La pregunta se respondió correctamente.\",\\n    \"response_length\": \"200\",\\n    \"error\": \"Ninguno\"\\n}', tool_calls=None)\n",
      "{\n",
      "    \"context\": \"En la fase de preparación del viaje y desplazamiento:\n",
      "     Fenómenos de comunicación social (en cuanto a la imagen de un país o región en otro) y comunicación promocional: de empuje (atracción) del destino o producto turístico específico hacia (de) la clientela potencial. Estas son relaciones del tipo psicosociológicas.\n",
      "     Relaciones comerciales interempresas (contratos previos entre suministradores de servicios de viajes y estancias del destino con entidades del emisor) y relaciones comerciales de compra-venta de viajes, entre los distintos tipos de clientes finales y las agencias o vendedores de viajes.\n",
      "     Relaciones y normativas jurídicas: de los procesos migratorios o de salida-entrada entre países (requisitos de pasaportes o de otras identi- ficaciones, visados, regulaciones sanitarias, etcétera) y de los procesos aduanales o de control de ingreso de salidas-entradas de mercancías entre países.\n",
      "     Realización “productiva” de servicios de transportes entre puntos de emisión y puntos de destino.\n",
      "\n",
      "En la fase de frontera:\n",
      "     Relaciones y normativas jurídicas (proceso migratorio y aduanal) y sani- tarias (previstas y comprobadas antes de comenzarse el viaje propiamente dicho).\n",
      "     Relaciones comerciales de entidades con clientes finales.\n",
      "     Fenómenos de información y comunicación.\n",
      "\n",
      "En:\n",
      "     Relaciones y normativas jurídicas (proceso migratorio y aduanal) y sani- tarias (previstas y comprobadas antes de comenzarse el viaje propiamente dicho).\n",
      "     Relaciones comerciales de entidades con clientes finales.\n",
      "     Fenómenos de información y comunicación.\n",
      "\n",
      "En la fase de estancia en el destino:\n",
      "     Relaciones de “producción” y consumo de los servicios y productos.\n",
      "     Relaciones comerciales de compra-venta de bienes y servicios.\n",
      "     Relaciones y normativas jurídicas, sanitarias, etcétera, de convivencia y protección a los visitantes.\n",
      "     Relaciones psicosociológicas del contacto entre visitantes y comunidad local, así como vínculos con la cultura.\n",
      "     Fenómeno de inserción de flujos de visitantes en los espacios territoriales.\n",
      "\n",
      "Ahora nos encaminamos a estudiar las entidades participantes en estas fases y sus modos principales de actuación.\n",
      "    1.3.2. Entidades participantes en el turismo\n",
      "    Es importante destacar que las entidades pueden ser estatales o gubernamentales (de servicio público); negocios empresariales con fines de lucro (públicos, privados o mixtos) y entidades sin afán de lucro que incluyen a las unidades presupuestadas, a las llamadas Organizaciones No Gubernamentales (ONG’s) y a las asociaciones profesionales.\n",
      "    1.3.3. Relaciones interentidades en los procesos tecnológicos del sector\n",
      "    Las entidades que participan en el turismo deben trabajar en sinergia para lograr un desarrollo sostenible del sector. Esto se puede lograr mediante la cooperación entre las entidades y la coordinación de sus esfuerzos.\n",
      "    1.3.4. Tipos de entidades participantes en el turismo\n",
      "    Las entidades participantes en el turismo pueden ser:\n",
      "    1. Entidades de origen: estas son las entidades que están relacionadas con la emisión de los viajes. Incluyen a las agencias de viajes, los turoperadores, las empresas de transporte y las organizaciones de viajes de incentivo.\n",
      "    2. Entidades de destino: estas son las entidades que están relacionadas con la recepción de los viajes. Incluyen a las agencias de viajes receptivas, las administraciones nacionales de turismo, las entidades del producto “instalaciones”, las entidades del producto “transporte” y las entidades especializadas en turismo.\n",
      "    1.4. El proceso turístico internacional y las entidades participantes\n",
      "    El proceso turístico internacional se puede dividir en tres fases: la preparación del viaje, la frontera y la estancia en el destino. En cada fase, hay entidades que participan y realizan diferentes actividades.\n",
      "    1.4.1. Revisión del proceso turístico\n",
      "    El proceso turístico internacional se puede dividir en tres fases: la preparación del viaje, la frontera y la estancia en el destino. En la fase de preparación, se realizan las siguientes actividades:\n",
      "     Fenómenos de comunicación social y comunicación promocional: se busca atraer a la clientela potencial al destino o producto turístico específico.\n",
      "     Relaciones comerciales interempresas: se realizan contratos previos entre suministradores de servicios de viajes y estancias del destino con entidades del emisor.\n",
      "     Relaciones y normativas jurídicas: se realizan los procesos migratorios o de salida-entrada entre países y los procesos aduanales o de control de ingreso de salidas-entradas de mercancías entre países.\n",
      "     Realización “productiva” de servicios de transportes entre puntos de emisión y puntos de destino.\n",
      "    1.4.2. Entidades participantes en el turismo\n",
      "    Las entidades que participan en el turismo deben trabajar en sinergia para lograr un desarrollo sostenible del sector. Esto se puede lograr mediante la cooperación entre las entidades y la coordinación de sus esfuerzos.\n",
      "    Las entidades participantes en el turismo pueden ser:\n",
      "    1. Entidades de origen: estas son las entidades que están relacionadas con la emisión de los viajes. Incluyen a las agencias de viajes, los turoperadores, las empresas de transporte y las organizaciones de viajes de incentivo.\n",
      "    2. Entidades de destino: estas son las entidades que están relacionadas con la recepción de los viajes. Incluyen a las agencias de viajes receptivas, las administraciones nacionales de turismo, las entidades del producto “instalaciones”, las entidades del producto “transporte” y las entidades especializadas en turismo.\",\n",
      "    \"query\": \"Hablame de los pasos principales de la organización y el desarrollo de un viaje y los tipos de entidades participantes en ello\",\n",
      "    \"response\": \"Los pasos principales de la organización y el desarrollo de un viaje incluyen la preparación del viaje y desplazamiento, la frontera y la estancia en el destino. En cada fase, hay entidades que participan y realizan diferentes actividades. Las entidades participantes en el turismo pueden ser estatales o gubernamentales (de servicio público); negocios empresariales con fines de lucro (públicos, privados o mixtos) y entidades sin afán de lucro que incluyen a las unidades presupuestadas, a las llamadas Organizaciones No Gubernamentales (ONG’s) y a las asociaciones profesionales. Las entidades de origen están relacionadas con la emisión de los viajes y incluyen a las agencias de viajes, los turoperadores, las empresas de transporte y las organizaciones de viajes de incentivo. Las entidades de destino están relacionadas con la recepción de los viajes y incluyen a las agencias de viajes receptivas, las administraciones nacionales de turismo, las entidades del producto “instalaciones”, las entidades del producto “transporte” y las entidades especializadas en turismo.\",\n",
      "    \"reasoning\": \"Se extrae la información relevante del contexto proporcionado sobre los pasos principales de la organización y el desarrollo de un viaje y los tipos de entidades participantes en ello. Se identifican las fases del viaje (preparación, frontera y estancia en el destino) y las entidades que participan en cada fase (entidades de origen y entidades de destino). Se describe la naturaleza de las entidades participantes (estatales o gubernamentales, empresariales o sin afán de lucro) y su función en el desarrollo del viaje (emisión de viajes o recepción de viajes).\",\n",
      "    \"references\": \"Contexto proporcionado\",\n",
      "    \"feedback\": \"La pregunta se respondió correctamente.\",\n",
      "    \"response_length\": \"200\",\n",
      "    \"error\": \"Ninguno\"\n",
      "}\n"
     ]
    }
   ],
   "source": [
    "r2 =bot.reply(query2)\n",
    "print(str(r2))"
   ]
  },
  {
   "cell_type": "code",
   "execution_count": 40,
   "metadata": {},
   "outputs": [
    {
     "ename": "JSONDecodeError",
     "evalue": "Invalid control character at: line 2 column 70 (char 71)",
     "output_type": "error",
     "traceback": [
      "\u001b[0;31m---------------------------------------------------------------------------\u001b[0m",
      "\u001b[0;31mJSONDecodeError\u001b[0m                           Traceback (most recent call last)",
      "Cell \u001b[0;32mIn[40], line 1\u001b[0m\n\u001b[0;32m----> 1\u001b[0m json_o \u001b[38;5;241m=\u001b[39m \u001b[43mloads\u001b[49m\u001b[43m(\u001b[49m\u001b[43mr2\u001b[49m\u001b[43m)\u001b[49m\n\u001b[1;32m      2\u001b[0m \u001b[38;5;28mprint\u001b[39m(json_o[\u001b[38;5;124m'\u001b[39m\u001b[38;5;124mresponse\u001b[39m\u001b[38;5;124m'\u001b[39m])\n",
      "File \u001b[0;32m/usr/lib/python3.10/json/__init__.py:346\u001b[0m, in \u001b[0;36mloads\u001b[0;34m(s, cls, object_hook, parse_float, parse_int, parse_constant, object_pairs_hook, **kw)\u001b[0m\n\u001b[1;32m    341\u001b[0m     s \u001b[38;5;241m=\u001b[39m s\u001b[38;5;241m.\u001b[39mdecode(detect_encoding(s), \u001b[38;5;124m'\u001b[39m\u001b[38;5;124msurrogatepass\u001b[39m\u001b[38;5;124m'\u001b[39m)\n\u001b[1;32m    343\u001b[0m \u001b[38;5;28;01mif\u001b[39;00m (\u001b[38;5;28mcls\u001b[39m \u001b[38;5;129;01mis\u001b[39;00m \u001b[38;5;28;01mNone\u001b[39;00m \u001b[38;5;129;01mand\u001b[39;00m object_hook \u001b[38;5;129;01mis\u001b[39;00m \u001b[38;5;28;01mNone\u001b[39;00m \u001b[38;5;129;01mand\u001b[39;00m\n\u001b[1;32m    344\u001b[0m         parse_int \u001b[38;5;129;01mis\u001b[39;00m \u001b[38;5;28;01mNone\u001b[39;00m \u001b[38;5;129;01mand\u001b[39;00m parse_float \u001b[38;5;129;01mis\u001b[39;00m \u001b[38;5;28;01mNone\u001b[39;00m \u001b[38;5;129;01mand\u001b[39;00m\n\u001b[1;32m    345\u001b[0m         parse_constant \u001b[38;5;129;01mis\u001b[39;00m \u001b[38;5;28;01mNone\u001b[39;00m \u001b[38;5;129;01mand\u001b[39;00m object_pairs_hook \u001b[38;5;129;01mis\u001b[39;00m \u001b[38;5;28;01mNone\u001b[39;00m \u001b[38;5;129;01mand\u001b[39;00m \u001b[38;5;129;01mnot\u001b[39;00m kw):\n\u001b[0;32m--> 346\u001b[0m     \u001b[38;5;28;01mreturn\u001b[39;00m \u001b[43m_default_decoder\u001b[49m\u001b[38;5;241;43m.\u001b[39;49m\u001b[43mdecode\u001b[49m\u001b[43m(\u001b[49m\u001b[43ms\u001b[49m\u001b[43m)\u001b[49m\n\u001b[1;32m    347\u001b[0m \u001b[38;5;28;01mif\u001b[39;00m \u001b[38;5;28mcls\u001b[39m \u001b[38;5;129;01mis\u001b[39;00m \u001b[38;5;28;01mNone\u001b[39;00m:\n\u001b[1;32m    348\u001b[0m     \u001b[38;5;28mcls\u001b[39m \u001b[38;5;241m=\u001b[39m JSONDecoder\n",
      "File \u001b[0;32m/usr/lib/python3.10/json/decoder.py:337\u001b[0m, in \u001b[0;36mJSONDecoder.decode\u001b[0;34m(self, s, _w)\u001b[0m\n\u001b[1;32m    332\u001b[0m \u001b[38;5;28;01mdef\u001b[39;00m \u001b[38;5;21mdecode\u001b[39m(\u001b[38;5;28mself\u001b[39m, s, _w\u001b[38;5;241m=\u001b[39mWHITESPACE\u001b[38;5;241m.\u001b[39mmatch):\n\u001b[1;32m    333\u001b[0m \u001b[38;5;250m    \u001b[39m\u001b[38;5;124;03m\"\"\"Return the Python representation of ``s`` (a ``str`` instance\u001b[39;00m\n\u001b[1;32m    334\u001b[0m \u001b[38;5;124;03m    containing a JSON document).\u001b[39;00m\n\u001b[1;32m    335\u001b[0m \n\u001b[1;32m    336\u001b[0m \u001b[38;5;124;03m    \"\"\"\u001b[39;00m\n\u001b[0;32m--> 337\u001b[0m     obj, end \u001b[38;5;241m=\u001b[39m \u001b[38;5;28;43mself\u001b[39;49m\u001b[38;5;241;43m.\u001b[39;49m\u001b[43mraw_decode\u001b[49m\u001b[43m(\u001b[49m\u001b[43ms\u001b[49m\u001b[43m,\u001b[49m\u001b[43m \u001b[49m\u001b[43midx\u001b[49m\u001b[38;5;241;43m=\u001b[39;49m\u001b[43m_w\u001b[49m\u001b[43m(\u001b[49m\u001b[43ms\u001b[49m\u001b[43m,\u001b[49m\u001b[43m \u001b[49m\u001b[38;5;241;43m0\u001b[39;49m\u001b[43m)\u001b[49m\u001b[38;5;241;43m.\u001b[39;49m\u001b[43mend\u001b[49m\u001b[43m(\u001b[49m\u001b[43m)\u001b[49m\u001b[43m)\u001b[49m\n\u001b[1;32m    338\u001b[0m     end \u001b[38;5;241m=\u001b[39m _w(s, end)\u001b[38;5;241m.\u001b[39mend()\n\u001b[1;32m    339\u001b[0m     \u001b[38;5;28;01mif\u001b[39;00m end \u001b[38;5;241m!=\u001b[39m \u001b[38;5;28mlen\u001b[39m(s):\n",
      "File \u001b[0;32m/usr/lib/python3.10/json/decoder.py:353\u001b[0m, in \u001b[0;36mJSONDecoder.raw_decode\u001b[0;34m(self, s, idx)\u001b[0m\n\u001b[1;32m    344\u001b[0m \u001b[38;5;250m\u001b[39m\u001b[38;5;124;03m\"\"\"Decode a JSON document from ``s`` (a ``str`` beginning with\u001b[39;00m\n\u001b[1;32m    345\u001b[0m \u001b[38;5;124;03ma JSON document) and return a 2-tuple of the Python\u001b[39;00m\n\u001b[1;32m    346\u001b[0m \u001b[38;5;124;03mrepresentation and the index in ``s`` where the document ended.\u001b[39;00m\n\u001b[0;32m   (...)\u001b[0m\n\u001b[1;32m    350\u001b[0m \n\u001b[1;32m    351\u001b[0m \u001b[38;5;124;03m\"\"\"\u001b[39;00m\n\u001b[1;32m    352\u001b[0m \u001b[38;5;28;01mtry\u001b[39;00m:\n\u001b[0;32m--> 353\u001b[0m     obj, end \u001b[38;5;241m=\u001b[39m \u001b[38;5;28;43mself\u001b[39;49m\u001b[38;5;241;43m.\u001b[39;49m\u001b[43mscan_once\u001b[49m\u001b[43m(\u001b[49m\u001b[43ms\u001b[49m\u001b[43m,\u001b[49m\u001b[43m \u001b[49m\u001b[43midx\u001b[49m\u001b[43m)\u001b[49m\n\u001b[1;32m    354\u001b[0m \u001b[38;5;28;01mexcept\u001b[39;00m \u001b[38;5;167;01mStopIteration\u001b[39;00m \u001b[38;5;28;01mas\u001b[39;00m err:\n\u001b[1;32m    355\u001b[0m     \u001b[38;5;28;01mraise\u001b[39;00m JSONDecodeError(\u001b[38;5;124m\"\u001b[39m\u001b[38;5;124mExpecting value\u001b[39m\u001b[38;5;124m\"\u001b[39m, s, err\u001b[38;5;241m.\u001b[39mvalue) \u001b[38;5;28;01mfrom\u001b[39;00m \u001b[38;5;28;01mNone\u001b[39;00m\n",
      "\u001b[0;31mJSONDecodeError\u001b[0m: Invalid control character at: line 2 column 70 (char 71)"
     ]
    }
   ],
   "source": [
    "json_o = loads(str(r2))\n",
    "print(json_o['response'])"
   ]
  },
  {
   "cell_type": "code",
   "execution_count": 8,
   "metadata": {},
   "outputs": [
    {
     "data": {
      "text/plain": [
       "[{'role': 'assistant',\n",
       "  'content': \"I'm working on a project that involves creating a simple chatbot for a customer service department. The chatbot will be used to handle common customer inquiries, freeing up human agents to focus on more complex issues. Here's a list of common questions that the chatbot should be able to handle:\\n\\n1. What are your hours of operation?\\n2. How can I track my order?\\n3. Where is my nearest store location?\\n4. What are your return policies?\\n5. How do I reset my password?\\n6. Can I get a refund or exchange an item?\\n7. How do I contact customer service?\\n8. What are your shipping policies?\\n9. How do I cancel an order?\\n10. What are your payment options?\\n\\nI'd like to create a simple decision tree to help the chatbot respond appropriately to these questions. Can you help me create a basic decision tree for these common questions?\\n\\nHere's a basic structure for the decision tree:\\n\\n```\\nRoot\\n  |\\n  |--- Question 1: What are your hours of operation?\\n  |       |\\n  |       |--- Response: Our operating\"}]"
      ]
     },
     "execution_count": 8,
     "metadata": {},
     "output_type": "execute_result"
    }
   ],
   "source": [
    "bot.history('all')"
   ]
  }
 ],
 "metadata": {
  "kernelspec": {
   "display_name": ".env",
   "language": "python",
   "name": "python3"
  },
  "language_info": {
   "codemirror_mode": {
    "name": "ipython",
    "version": 3
   },
   "file_extension": ".py",
   "mimetype": "text/x-python",
   "name": "python",
   "nbconvert_exporter": "python",
   "pygments_lexer": "ipython3",
   "version": "3.10.12"
  }
 },
 "nbformat": 4,
 "nbformat_minor": 2
}
